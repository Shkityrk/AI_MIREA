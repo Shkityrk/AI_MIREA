{
 "cells": [
  {
   "cell_type": "markdown",
   "source": [
    "### 1.1. Теоретический материал – Библиотека NumPy \n",
    "NumPy (NumericalPython) - это библиотека Python с открытым исходным кодом, которая используется практически во всех областях науки и техники. Это универсальный стандарт для работы с числовыми данными в Python. \n",
    "Если у вас уже есть Python, вы можете установить NumPy с помощью командной строки: \n",
    "    pip install numpy \n",
    "Чтобы начать использовать NumPy необходимо импортировать соответствующую библиотеку:     \n",
    "    import numpy as np \n",
    "Основным объектом NumPy является однородный многомерный массив (в numpy называется numpy.ndarray). Это многомерный массив элементов (обычно чисел), одного типа. \n",
    "Наиболее важные атрибуты объектов ndarray: \n",
    "ndarray.ndim - число измерений (чаще их называют \"оси\") массива. \n",
    "ndarray.shape - размеры массива, его форма. Это кортеж натуральных чисел, показывающий длину массива по каждой оси. Для матрицы из n строк и m столбов, shape будет (n,m). Число элементов кортежа shape равно ndim. \n",
    "ndarray.size - количество элементов массива. Очевидно, равно произведению всех элементов атрибута shape. \n",
    "ndarray.dtype - объект, описывающий тип элементов массива. Можно определить dtype, используя стандартные типы данных Python. NumPy здесь предоставляет целый букет возможностей, как встроенных, например: bool_, character, int8, int16, int32, int64, float8, float16, float32, float64, complex64, object_, так и возможность определить собственные типы данных, в том числе и составные. \n",
    "ndarray.itemsize - размер каждого элемента массива в байтах. \n",
    "ndarray.data - буфер, содержащий фактические элементы массива. Обычно не нужно использовать этот атрибут, так как обращаться к элементам массива проще всего с помощью индексов. \n",
    "Подробнее о массивах в NumPy можно найти в официальной документации https://numpy.org/doc/stable/user/absolute_beginners.html  "
   ],
   "metadata": {
    "collapsed": false
   },
   "id": "1efd907a82e445bb"
  },
  {
   "cell_type": "markdown",
   "source": [
    "### 1.2.1 Пример \n",
    "Создать массив 5x2. Создать массив 5x2. Вывести все значения массива, значение элемента с индексом (3,1) и второй столбец. Индексация начинается с нуля. "
   ],
   "metadata": {
    "collapsed": false
   },
   "id": "1cd3680bd9faddfb"
  },
  {
   "cell_type": "code",
   "outputs": [
    {
     "name": "stdout",
     "output_type": "stream",
     "text": [
      "[[ 1  2]\n",
      " [ 3  4]\n",
      " [ 5  6]\n",
      " [ 7  8]\n",
      " [ 9 10]]\n",
      "8\n",
      "[3 4]\n"
     ]
    }
   ],
   "source": [
    "import numpy as np\n",
    "x=np.array([[1,2], [3,4], [5,6], [7,8], [9,10]])\n",
    "print(x)\n",
    "print(x[3][1])\n",
    "print(x[1])"
   ],
   "metadata": {
    "collapsed": false,
    "ExecuteTime": {
     "end_time": "2024-02-26T11:47:56.683845600Z",
     "start_time": "2024-02-26T11:47:56.676788900Z"
    }
   },
   "id": "d897bcc680bf6a41",
   "execution_count": 1
  },
  {
   "cell_type": "markdown",
   "source": [
    "### 1.2.2 Пример\n",
    "Выполнить следующее: \n",
    "1. Создать вектор (одномерный массив) размера 10, заполненный нулями. \n",
    "2. Создать вектор размера 10, заполненный единицами.\n",
    "3. Создать вектор размера 10, заполненный заданным числом.\n",
    "4. Создать вектор со значениями от 10 до 19."
   ],
   "metadata": {
    "collapsed": false
   },
   "id": "f43fbe9e79c983da"
  },
  {
   "cell_type": "code",
   "outputs": [
    {
     "name": "stdout",
     "output_type": "stream",
     "text": [
      "[0. 0. 0. 0. 0. 0. 0. 0. 0. 0.] \n",
      " [1. 1. 1. 1. 1. 1. 1. 1. 1. 1.] \n",
      " [5 5 5 5 5 5 5 5 5 5] \n",
      " [10 11 12 13 14 15 16 17 18 19]\n"
     ]
    }
   ],
   "source": [
    "a=np.zeros(10)\n",
    "b=np.ones(10)\n",
    "c=np.full(10,5)\n",
    "d=np.arange(10,20)\n",
    "print(a, \"\\n\", b, \"\\n\", c, \"\\n\", d)"
   ],
   "metadata": {
    "collapsed": false,
    "ExecuteTime": {
     "end_time": "2024-02-26T11:47:56.694040900Z",
     "start_time": "2024-02-26T11:47:56.683845600Z"
    }
   },
   "id": "d1ec34a247f0214",
   "execution_count": 2
  },
  {
   "cell_type": "markdown",
   "source": [
    "### 1.2.3 Пример\n",
    "Создать массив 10x10 со случайными значениями, найти минимум, максимум и среднее значение."
   ],
   "metadata": {
    "collapsed": false
   },
   "id": "8c8b5dc75d651440"
  },
  {
   "cell_type": "code",
   "outputs": [
    {
     "name": "stdout",
     "output_type": "stream",
     "text": [
      "0.010008884351169978 0.990229616336593 0.48446902213676596\n"
     ]
    }
   ],
   "source": [
    "Z=np.random.random((10,10))\n",
    "Zmin, Zmax, Zmean= Z.min(), Z.max(), Z.mean()\n",
    "print(Zmin, Zmax,  Zmean)"
   ],
   "metadata": {
    "collapsed": false,
    "ExecuteTime": {
     "end_time": "2024-02-26T11:47:56.698290500Z",
     "start_time": "2024-02-26T11:47:56.694040900Z"
    }
   },
   "id": "5371e268a723adfe",
   "execution_count": 3
  },
  {
   "cell_type": "markdown",
   "source": [
    "### 1.2.4 Пример\n",
    "Задать матрицу размерности 5 на 5 и поменять 2 строки в матрице местами."
   ],
   "metadata": {
    "collapsed": false
   },
   "id": "fd31984595c0647f"
  },
  {
   "cell_type": "code",
   "outputs": [
    {
     "name": "stdout",
     "output_type": "stream",
     "text": [
      "[[ 5  6  7  8  9]\n",
      " [ 0  1  2  3  4]\n",
      " [10 11 12 13 14]\n",
      " [15 16 17 18 19]\n",
      " [20 21 22 23 24]]\n"
     ]
    }
   ],
   "source": [
    "A=np.arange(25).reshape(5,5)\n",
    "A[[0,1]] = A[[1,0]]\n",
    "print(A)"
   ],
   "metadata": {
    "collapsed": false,
    "ExecuteTime": {
     "end_time": "2024-02-26T11:47:56.709843300Z",
     "start_time": "2024-02-26T11:47:56.700557400Z"
    }
   },
   "id": "6d946b99f9b5ca07",
   "execution_count": 4
  },
  {
   "cell_type": "markdown",
   "source": [
    "### 1.2.5 Пример\n",
    "Задача: Выяснить результат следующих выражений: \n",
    "0 * np.nan \n",
    "np.nan == np.nan \n",
    "np.inf > np.nan \n",
    "np.nan - np.nan \n",
    "0.3 == 3 * 0.1"
   ],
   "metadata": {
    "collapsed": false
   },
   "id": "1bb65f6d0534bfe1"
  },
  {
   "cell_type": "code",
   "outputs": [
    {
     "name": "stdout",
     "output_type": "stream",
     "text": [
      "nan\n",
      "False\n",
      "False\n",
      "nan\n",
      "False\n"
     ]
    }
   ],
   "source": [
    "print(0 * np.nan )\n",
    "print(np.nan == np.nan )\n",
    "print(np.inf > np.nan )\n",
    "print(np.nan - np.nan )\n",
    "print(0.3 == 3 * 0.1)\n"
   ],
   "metadata": {
    "collapsed": false,
    "ExecuteTime": {
     "end_time": "2024-02-26T11:47:56.814749Z",
     "start_time": "2024-02-26T11:47:56.709327300Z"
    }
   },
   "id": "3442087af0c3b819",
   "execution_count": 5
  },
  {
   "cell_type": "markdown",
   "source": [
    "### 1.2.6 Пример\n",
    "Отсортировать массив."
   ],
   "metadata": {
    "collapsed": false
   },
   "id": "34826516c7404b8d"
  },
  {
   "cell_type": "code",
   "outputs": [
    {
     "name": "stdout",
     "output_type": "stream",
     "text": [
      "[1 2 3 4 5 6 7 8]\n"
     ]
    }
   ],
   "source": [
    "arr= np.array([2,1,5,3,7,4,6,8])\n",
    "print(np.sort(arr))"
   ],
   "metadata": {
    "collapsed": false,
    "ExecuteTime": {
     "end_time": "2024-02-26T11:47:56.815777900Z",
     "start_time": "2024-02-26T11:47:56.713131300Z"
    }
   },
   "id": "b95f602dd7f2dbb1",
   "execution_count": 6
  },
  {
   "cell_type": "markdown",
   "source": [
    "### 1.3.1 Задание\n",
    "Создать 8x8 матрицу и заполнить её в шахматном порядке нулями и единицами."
   ],
   "metadata": {
    "collapsed": false
   },
   "id": "5aba09ff25111f5f"
  },
  {
   "cell_type": "code",
   "outputs": [
    {
     "name": "stdout",
     "output_type": "stream",
     "text": [
      "[[1 0 1 0 1 0 1 0]\n",
      " [0 1 0 1 0 1 0 1]\n",
      " [1 0 1 0 1 0 1 0]\n",
      " [0 1 0 1 0 1 0 1]\n",
      " [1 0 1 0 1 0 1 0]\n",
      " [0 1 0 1 0 1 0 1]\n",
      " [1 0 1 0 1 0 1 0]\n",
      " [0 1 0 1 0 1 0 1]]\n"
     ]
    }
   ],
   "source": [
    "matrix = np.zeros((8,8), dtype=int)\n",
    "for i in range(len(matrix)):\n",
    "    for j in range(len(matrix)):\n",
    "        if (i+j)%2==0:\n",
    "            matrix[i][j]=1\n",
    "\n",
    "print(matrix)"
   ],
   "metadata": {
    "collapsed": false,
    "ExecuteTime": {
     "end_time": "2024-02-26T11:47:56.815777900Z",
     "start_time": "2024-02-26T11:47:56.720875900Z"
    }
   },
   "id": "ada7a24bff4b00dd",
   "execution_count": 7
  },
  {
   "cell_type": "markdown",
   "source": [
    "### 1.3.2 Задание\n",
    "Создать 5x5 матрицу со значениями в строках от 0 до 4. Для создания необходимо использовать функцию arrange."
   ],
   "metadata": {
    "collapsed": false
   },
   "id": "da01656dd8b0de0a"
  },
  {
   "cell_type": "code",
   "outputs": [
    {
     "name": "stdout",
     "output_type": "stream",
     "text": [
      "[[0 1 2 3 4]\n",
      " [0 1 2 3 4]\n",
      " [0 1 2 3 4]\n",
      " [0 1 2 3 4]\n",
      " [0 1 2 3 4]]\n"
     ]
    }
   ],
   "source": [
    "matrix_random = np.zeros((5,5), dtype=int)\n",
    "matrix_random+=np.arange(5)\n",
    "print(matrix_random)"
   ],
   "metadata": {
    "collapsed": false,
    "ExecuteTime": {
     "end_time": "2024-02-26T11:47:56.816777700Z",
     "start_time": "2024-02-26T11:47:56.731066Z"
    }
   },
   "id": "cbd5a7ffc8653926",
   "execution_count": 8
  },
  {
   "cell_type": "markdown",
   "source": [
    "### 1.3.3 Задание\n",
    "Создать массив 3x3x3 со случайными значениями."
   ],
   "metadata": {
    "collapsed": false
   },
   "id": "2472bf825ce771b7"
  },
  {
   "cell_type": "code",
   "outputs": [
    {
     "name": "stdout",
     "output_type": "stream",
     "text": [
      "[[[0.21124708 0.02006054 0.04368792]\n",
      "  [0.35722042 0.70922092 0.71155145]\n",
      "  [0.62512573 0.03707524 0.69986874]]\n",
      "\n",
      " [[0.81801274 0.20026211 0.57101397]\n",
      "  [0.94152385 0.61443099 0.0102744 ]\n",
      "  [0.08407508 0.25219679 0.85703862]]\n",
      "\n",
      " [[0.18020423 0.02660933 0.96791605]\n",
      "  [0.48163111 0.31770085 0.03162529]\n",
      "  [0.17401605 0.89465377 0.40681801]]]\n"
     ]
    }
   ],
   "source": [
    "matrix_random_2=np.random.random((3,3,3))\n",
    "print(matrix_random_2)"
   ],
   "metadata": {
    "collapsed": false,
    "ExecuteTime": {
     "end_time": "2024-02-26T11:47:56.945993Z",
     "start_time": "2024-02-26T11:47:56.738063300Z"
    }
   },
   "id": "67d0c2d3f055a4a0",
   "execution_count": 9
  },
  {
   "cell_type": "markdown",
   "source": [
    "### 1.3.4 Задание\n",
    "Создать матрицу с 0 внутри, и 1 на границах."
   ],
   "metadata": {
    "collapsed": false
   },
   "id": "27cbd9a7425dd12b"
  },
  {
   "cell_type": "code",
   "outputs": [
    {
     "name": "stdout",
     "output_type": "stream",
     "text": [
      "[[1 1 1 1 1]\n",
      " [1 0 0 0 1]\n",
      " [1 0 0 0 1]\n",
      " [1 0 0 0 1]\n",
      " [1 1 1 1 1]]\n"
     ]
    }
   ],
   "source": [
    "matrix_2 = np.zeros((5,5), dtype=int)\n",
    "matrix_2[0,:] = 1\n",
    "matrix_2[-1,:] = 1\n",
    "matrix_2[:,0]=1\n",
    "matrix_2[:,-1]=1            \n",
    "\n",
    "print(matrix_2)"
   ],
   "metadata": {
    "collapsed": false,
    "ExecuteTime": {
     "end_time": "2024-02-26T11:47:56.947001100Z",
     "start_time": "2024-02-26T11:47:56.743714100Z"
    }
   },
   "id": "488ea19cb756c4dc",
   "execution_count": 10
  },
  {
   "cell_type": "markdown",
   "source": [
    "### 1.3.5 Задание\n",
    "Создайте массив и отсортируйте его по убыванию."
   ],
   "metadata": {
    "collapsed": false
   },
   "id": "aefdc642808ed02a"
  },
  {
   "cell_type": "code",
   "outputs": [
    {
     "name": "stdout",
     "output_type": "stream",
     "text": [
      "Исходный массив: [8 2 4 4 2 2 5 0 4 1]\n",
      "Отсортированный массив: [8 5 4 4 4 2 2 2 1 0]\n"
     ]
    }
   ],
   "source": [
    "sort_matrix=np.random.randint(0,10,size=(10))\n",
    "sorted_matrix=np.sort(sort_matrix)[::-1]\n",
    "print(f\"Исходный массив: {sort_matrix}\")\n",
    "print(f\"Отсортированный массив: {sorted_matrix}\")"
   ],
   "metadata": {
    "collapsed": false,
    "ExecuteTime": {
     "end_time": "2024-02-26T11:47:56.948990200Z",
     "start_time": "2024-02-26T11:47:56.751808200Z"
    }
   },
   "id": "8e55f41bc4fa34b8",
   "execution_count": 11
  },
  {
   "cell_type": "markdown",
   "source": [
    "### 1.3.6 Задание\n",
    "Создайте матрицу, выведите ее форму, размер и размерность."
   ],
   "metadata": {
    "collapsed": false
   },
   "id": "99f2fcddff626854"
  },
  {
   "cell_type": "code",
   "outputs": [
    {
     "name": "stdout",
     "output_type": "stream",
     "text": [
      "Матрица:\n",
      "[[1 0 1 0 1 0 1 0]\n",
      " [0 1 0 1 0 1 0 1]\n",
      " [1 0 1 0 1 0 1 0]\n",
      " [0 1 0 1 0 1 0 1]\n",
      " [1 0 1 0 1 0 1 0]\n",
      " [0 1 0 1 0 1 0 1]\n",
      " [1 0 1 0 1 0 1 0]\n",
      " [0 1 0 1 0 1 0 1]]\n",
      "\n",
      "Форма матрицы: (8, 8)\n",
      "Размер матрицы: 64\n",
      "Размерность матрицы: 2\n"
     ]
    }
   ],
   "source": [
    "new_matrix = np.random.randint(0, 10, size=(3, 4))\n",
    "print(\"Матрица:\")\n",
    "print(matrix)\n",
    "# Выводим форму матрицы\n",
    "print(\"\\nФорма матрицы:\", matrix.shape)\n",
    "# Выводим размер матрицы (количество элементов)\n",
    "print(\"Размер матрицы:\", matrix.size)\n",
    "# Выводим размерность матрицы\n",
    "print(\"Размерность матрицы:\", matrix.ndim)"
   ],
   "metadata": {
    "collapsed": false,
    "ExecuteTime": {
     "end_time": "2024-02-26T11:47:56.949998200Z",
     "start_time": "2024-02-26T11:47:56.764025600Z"
    }
   },
   "id": "7f46d5636501e26a",
   "execution_count": 12
  },
  {
   "cell_type": "markdown",
   "source": [
    "### 2.1. Теоретический материал – Библиотека Pandas \n",
    "Первым шагом в любом начинании в области машинного обучения является введение исходных данных в систему. Исходные данные могут вводиться вручную, содержаться в файле или храниться в интернете в каком-либо формате. Кроме того, часто требуется получить данные из нескольких источников. \n",
    "Библиотека pandas – это удобный и быстрый инструмент для работы с данными, обладающий большим функционалом. Если очень кратко, то pandas – это библиотека, которая предоставляет очень удобные с точки зрения использования инструменты для хранения данных и работе с ними. \n",
    "Библиотека pandas присутствует в стандартной поставке Anaconda. Если же ее там нет, то его можно установить отдельно. Для этого введите командной строке: \n",
    "pip install pandas \n",
    "Для импорта библиотеки используйте команду: \n",
    "import pandas as pd \n",
    "Библиотека pandas предоставляет две ключевые структуры данных: Series и DataFrame. \n",
    "Series – это одномерная структура данных, ее можно представить, как таблицу с одной строкой. С Series можно работать как с обычным массивом (обращаться по номеру индекса), и как с ассоциированным массивом, когда можно использовать ключ для доступа к элементам данных. \n",
    "DataFrame – это двумерная структура. Идейно она очень похожа на обычную таблицу, что выражается в способе ее создания и работе с ее элементами."
   ],
   "metadata": {
    "collapsed": false
   },
   "id": "cbbe6602b520ef61"
  },
  {
   "cell_type": "markdown",
   "source": [
    "### 2.2.1 Пример\n",
    "Создать Series из списка Python, словаря Python, и массива Numpy (установить буквенные метки для последнего)."
   ],
   "metadata": {
    "collapsed": false
   },
   "id": "d81fed7479ac5cc"
  },
  {
   "cell_type": "code",
   "outputs": [
    {
     "name": "stdout",
     "output_type": "stream",
     "text": [
      "0    1\n",
      "1    2\n",
      "2    3\n",
      "3    4\n",
      "4    5\n",
      "dtype: int64\n",
      "a    1\n",
      "b    2\n",
      "c    3\n",
      "dtype: int64\n",
      "a    1\n",
      "b    2\n",
      "c    3\n",
      "d    4\n",
      "e    5\n",
      "dtype: int32\n"
     ]
    }
   ],
   "source": [
    "import pandas as pd\n",
    "lst=[1,2,3,4,5]\n",
    "d={'a':1,'b':2,'c':3}\n",
    "ndarr = np.array([1,2,3,4,5])\n",
    "\n",
    "s1 = pd.Series(lst)\n",
    "s2 = pd.Series(d)\n",
    "s3 = pd.Series(ndarr, ['a', 'b', 'c', 'd', 'e'])\n",
    "\n",
    "print(s1)\n",
    "print(s2)\n",
    "print(s3)"
   ],
   "metadata": {
    "collapsed": false,
    "ExecuteTime": {
     "end_time": "2024-02-26T11:47:56.950994600Z",
     "start_time": "2024-02-26T11:47:56.769723Z"
    }
   },
   "id": "c2752104e0760c1",
   "execution_count": 13
  },
  {
   "cell_type": "markdown",
   "source": [
    "#### 2.2.2 Пример\n",
    "Дано два Series. Напечатать их первые элементы и все элементы после третьего (во втором фрейме)."
   ],
   "metadata": {
    "collapsed": false
   },
   "id": "9f97fc60bb46817b"
  },
  {
   "cell_type": "code",
   "outputs": [
    {
     "name": "stdout",
     "output_type": "stream",
     "text": [
      "1\n",
      "5\n",
      "3    2\n",
      "4    1\n",
      "dtype: int64\n"
     ]
    }
   ],
   "source": [
    "s1=pd.Series([1,2,3,4,5], ['a', 'b', 'c', 'd', 'e'])\n",
    "s2=pd.Series([5,4,3,2,1])\n",
    "print(s1['a'])\n",
    "print(s2[0])\n",
    "print(s2[3:])"
   ],
   "metadata": {
    "collapsed": false,
    "ExecuteTime": {
     "end_time": "2024-02-26T11:47:56.970275600Z",
     "start_time": "2024-02-26T11:47:56.779876600Z"
    }
   },
   "id": "b261ee80fa025636",
   "execution_count": 14
  },
  {
   "cell_type": "markdown",
   "source": [
    "2.2.3 Пример\n",
    "Создайте новый фрейм данных."
   ],
   "metadata": {
    "collapsed": false
   },
   "id": "e0b9441b5a0bef34"
  },
  {
   "cell_type": "code",
   "outputs": [
    {
     "name": "stdout",
     "output_type": "stream",
     "text": [
      "                Имя  Возраст  Водитель\n",
      "0     Джеки Джексон       38      True\n",
      "1  Стивен Стивенсон       25     False\n"
     ]
    }
   ],
   "source": [
    "data = {\n",
    "    'Имя' : ['Джеки Джексон', 'Стивен Стивенсон'],\n",
    "    'Возраст' : [38,25],\n",
    "    'Водитель' : [True, False],\n",
    "}\n",
    "dataframe = pd.DataFrame(data)\n",
    "print(dataframe)"
   ],
   "metadata": {
    "collapsed": false,
    "ExecuteTime": {
     "end_time": "2024-02-26T11:47:56.972296200Z",
     "start_time": "2024-02-26T11:47:56.784815800Z"
    }
   },
   "id": "fcb9bc22c6b9635f",
   "execution_count": 15
  },
  {
   "cell_type": "markdown",
   "source": [
    "### 2.2.4 Пример\n",
    "Загрузите фрейм данных по ссылке: \n",
    "https://raw.githubusercontent.com/chrisalbon/simulated_datasets/master/titanic.csv"
   ],
   "metadata": {
    "collapsed": false
   },
   "id": "8ea7b637d24be3b"
  },
  {
   "cell_type": "code",
   "outputs": [
    {
     "name": "stdout",
     "output_type": "stream",
     "text": [
      "   PassengerId  Survived  Pclass  \\\n",
      "0            1         0       3   \n",
      "1            2         1       1   \n",
      "2            3         1       3   \n",
      "3            4         1       1   \n",
      "4            5         0       3   \n",
      "\n",
      "                                                Name     Sex   Age  SibSp  \\\n",
      "0                            Braund, Mr. Owen Harris    male  22.0      1   \n",
      "1  Cumings, Mrs. John Bradley (Florence Briggs Th...  female  38.0      1   \n",
      "2                             Heikkinen, Miss. Laina  female  26.0      0   \n",
      "3       Futrelle, Mrs. Jacques Heath (Lily May Peel)  female  35.0      1   \n",
      "4                           Allen, Mr. William Henry    male  35.0      0   \n",
      "\n",
      "   Parch            Ticket     Fare Cabin Embarked  \n",
      "0      0         A/5 21171   7.2500   NaN        S  \n",
      "1      0          PC 17599  71.2833   C85        C  \n",
      "2      0  STON/O2. 3101282   7.9250   NaN        S  \n",
      "3      0            113803  53.1000  C123        S  \n",
      "4      0            373450   8.0500   NaN        S  \n"
     ]
    }
   ],
   "source": [
    "# url='https://raw.githubusercontent.com/chrisalbon/simulated_datasets/master/titanic.csv'\n",
    "# 404 HTTP Error\n",
    "url = 'https://raw.githubusercontent.com/datasciencedojo/datasets/master/titanic.csv'\n",
    "dataframe_1=pd.read_csv(url)\n",
    "print(dataframe_1.head(5))"
   ],
   "metadata": {
    "collapsed": false,
    "ExecuteTime": {
     "end_time": "2024-02-26T11:47:57.526212200Z",
     "start_time": "2024-02-26T11:47:56.800038400Z"
    }
   },
   "id": "86a040315750ccfb",
   "execution_count": 16
  },
  {
   "cell_type": "markdown",
   "source": [
    "### 2.2.5 Пример\n",
    "Пронализировать характеристики фрейма данных."
   ],
   "metadata": {
    "collapsed": false
   },
   "id": "527f8b76563065b0"
  },
  {
   "cell_type": "code",
   "outputs": [
    {
     "name": "stdout",
     "output_type": "stream",
     "text": [
      "   PassengerId  Survived  Pclass  \\\n",
      "0            1         0       3   \n",
      "1            2         1       1   \n",
      "\n",
      "                                                Name     Sex   Age  SibSp  \\\n",
      "0                            Braund, Mr. Owen Harris    male  22.0      1   \n",
      "1  Cumings, Mrs. John Bradley (Florence Briggs Th...  female  38.0      1   \n",
      "\n",
      "   Parch     Ticket     Fare Cabin Embarked  \n",
      "0      0  A/5 21171   7.2500   NaN        S  \n",
      "1      0   PC 17599  71.2833   C85        C  \n",
      "     PassengerId  Survived  Pclass                                      Name  \\\n",
      "888          889         0       3  Johnston, Miss. Catherine Helen \"Carrie\"   \n",
      "889          890         1       1                     Behr, Mr. Karl Howell   \n",
      "890          891         0       3                       Dooley, Mr. Patrick   \n",
      "\n",
      "        Sex   Age  SibSp  Parch      Ticket   Fare Cabin Embarked  \n",
      "888  female   NaN      1      2  W./C. 6607  23.45   NaN        S  \n",
      "889    male  26.0      0      0      111369  30.00  C148        C  \n",
      "890    male  32.0      0      0      370376   7.75   NaN        Q  \n",
      "(891, 12)\n"
     ]
    },
    {
     "data": {
      "text/plain": "       PassengerId    Survived      Pclass         Age       SibSp  \\\ncount   891.000000  891.000000  891.000000  714.000000  891.000000   \nmean    446.000000    0.383838    2.308642   29.699118    0.523008   \nstd     257.353842    0.486592    0.836071   14.526497    1.102743   \nmin       1.000000    0.000000    1.000000    0.420000    0.000000   \n25%     223.500000    0.000000    2.000000   20.125000    0.000000   \n50%     446.000000    0.000000    3.000000   28.000000    0.000000   \n75%     668.500000    1.000000    3.000000   38.000000    1.000000   \nmax     891.000000    1.000000    3.000000   80.000000    8.000000   \n\n            Parch        Fare  \ncount  891.000000  891.000000  \nmean     0.381594   32.204208  \nstd      0.806057   49.693429  \nmin      0.000000    0.000000  \n25%      0.000000    7.910400  \n50%      0.000000   14.454200  \n75%      0.000000   31.000000  \nmax      6.000000  512.329200  ",
      "text/html": "<div>\n<style scoped>\n    .dataframe tbody tr th:only-of-type {\n        vertical-align: middle;\n    }\n\n    .dataframe tbody tr th {\n        vertical-align: top;\n    }\n\n    .dataframe thead th {\n        text-align: right;\n    }\n</style>\n<table border=\"1\" class=\"dataframe\">\n  <thead>\n    <tr style=\"text-align: right;\">\n      <th></th>\n      <th>PassengerId</th>\n      <th>Survived</th>\n      <th>Pclass</th>\n      <th>Age</th>\n      <th>SibSp</th>\n      <th>Parch</th>\n      <th>Fare</th>\n    </tr>\n  </thead>\n  <tbody>\n    <tr>\n      <th>count</th>\n      <td>891.000000</td>\n      <td>891.000000</td>\n      <td>891.000000</td>\n      <td>714.000000</td>\n      <td>891.000000</td>\n      <td>891.000000</td>\n      <td>891.000000</td>\n    </tr>\n    <tr>\n      <th>mean</th>\n      <td>446.000000</td>\n      <td>0.383838</td>\n      <td>2.308642</td>\n      <td>29.699118</td>\n      <td>0.523008</td>\n      <td>0.381594</td>\n      <td>32.204208</td>\n    </tr>\n    <tr>\n      <th>std</th>\n      <td>257.353842</td>\n      <td>0.486592</td>\n      <td>0.836071</td>\n      <td>14.526497</td>\n      <td>1.102743</td>\n      <td>0.806057</td>\n      <td>49.693429</td>\n    </tr>\n    <tr>\n      <th>min</th>\n      <td>1.000000</td>\n      <td>0.000000</td>\n      <td>1.000000</td>\n      <td>0.420000</td>\n      <td>0.000000</td>\n      <td>0.000000</td>\n      <td>0.000000</td>\n    </tr>\n    <tr>\n      <th>25%</th>\n      <td>223.500000</td>\n      <td>0.000000</td>\n      <td>2.000000</td>\n      <td>20.125000</td>\n      <td>0.000000</td>\n      <td>0.000000</td>\n      <td>7.910400</td>\n    </tr>\n    <tr>\n      <th>50%</th>\n      <td>446.000000</td>\n      <td>0.000000</td>\n      <td>3.000000</td>\n      <td>28.000000</td>\n      <td>0.000000</td>\n      <td>0.000000</td>\n      <td>14.454200</td>\n    </tr>\n    <tr>\n      <th>75%</th>\n      <td>668.500000</td>\n      <td>1.000000</td>\n      <td>3.000000</td>\n      <td>38.000000</td>\n      <td>1.000000</td>\n      <td>0.000000</td>\n      <td>31.000000</td>\n    </tr>\n    <tr>\n      <th>max</th>\n      <td>891.000000</td>\n      <td>1.000000</td>\n      <td>3.000000</td>\n      <td>80.000000</td>\n      <td>8.000000</td>\n      <td>6.000000</td>\n      <td>512.329200</td>\n    </tr>\n  </tbody>\n</table>\n</div>"
     },
     "execution_count": 17,
     "metadata": {},
     "output_type": "execute_result"
    }
   ],
   "source": [
    "print(dataframe_1.head(2))\n",
    "print(dataframe_1.tail(3))\n",
    "print(dataframe_1.shape)\n",
    "dataframe_1.describe()"
   ],
   "metadata": {
    "collapsed": false,
    "ExecuteTime": {
     "end_time": "2024-02-26T11:47:57.582076600Z",
     "start_time": "2024-02-26T11:47:57.530217Z"
    }
   },
   "id": "56f3e8d81323ad61",
   "execution_count": 17
  },
  {
   "cell_type": "markdown",
   "source": [
    "### 2.2.6 Пример\n",
    "Выберите индивидуальные данные или срезы фрейма данных."
   ],
   "metadata": {
    "collapsed": false
   },
   "id": "7cc2ee5cb8b9e35d"
  },
  {
   "cell_type": "code",
   "outputs": [
    {
     "data": {
      "text/plain": "   PassengerId  Survived  Pclass  \\\n1            2         1       1   \n2            3         1       3   \n3            4         1       1   \n\n                                                Name     Sex   Age  SibSp  \\\n1  Cumings, Mrs. John Bradley (Florence Briggs Th...  female  38.0      1   \n2                             Heikkinen, Miss. Laina  female  26.0      0   \n3       Futrelle, Mrs. Jacques Heath (Lily May Peel)  female  35.0      1   \n\n   Parch            Ticket     Fare Cabin Embarked  \n1      0          PC 17599  71.2833   C85        C  \n2      0  STON/O2. 3101282   7.9250   NaN        S  \n3      0            113803  53.1000  C123        S  ",
      "text/html": "<div>\n<style scoped>\n    .dataframe tbody tr th:only-of-type {\n        vertical-align: middle;\n    }\n\n    .dataframe tbody tr th {\n        vertical-align: top;\n    }\n\n    .dataframe thead th {\n        text-align: right;\n    }\n</style>\n<table border=\"1\" class=\"dataframe\">\n  <thead>\n    <tr style=\"text-align: right;\">\n      <th></th>\n      <th>PassengerId</th>\n      <th>Survived</th>\n      <th>Pclass</th>\n      <th>Name</th>\n      <th>Sex</th>\n      <th>Age</th>\n      <th>SibSp</th>\n      <th>Parch</th>\n      <th>Ticket</th>\n      <th>Fare</th>\n      <th>Cabin</th>\n      <th>Embarked</th>\n    </tr>\n  </thead>\n  <tbody>\n    <tr>\n      <th>1</th>\n      <td>2</td>\n      <td>1</td>\n      <td>1</td>\n      <td>Cumings, Mrs. John Bradley (Florence Briggs Th...</td>\n      <td>female</td>\n      <td>38.0</td>\n      <td>1</td>\n      <td>0</td>\n      <td>PC 17599</td>\n      <td>71.2833</td>\n      <td>C85</td>\n      <td>C</td>\n    </tr>\n    <tr>\n      <th>2</th>\n      <td>3</td>\n      <td>1</td>\n      <td>3</td>\n      <td>Heikkinen, Miss. Laina</td>\n      <td>female</td>\n      <td>26.0</td>\n      <td>0</td>\n      <td>0</td>\n      <td>STON/O2. 3101282</td>\n      <td>7.9250</td>\n      <td>NaN</td>\n      <td>S</td>\n    </tr>\n    <tr>\n      <th>3</th>\n      <td>4</td>\n      <td>1</td>\n      <td>1</td>\n      <td>Futrelle, Mrs. Jacques Heath (Lily May Peel)</td>\n      <td>female</td>\n      <td>35.0</td>\n      <td>1</td>\n      <td>0</td>\n      <td>113803</td>\n      <td>53.1000</td>\n      <td>C123</td>\n      <td>S</td>\n    </tr>\n  </tbody>\n</table>\n</div>"
     },
     "execution_count": 18,
     "metadata": {},
     "output_type": "execute_result"
    }
   ],
   "source": [
    "dataframe_1.iloc[1:4]"
   ],
   "metadata": {
    "collapsed": false,
    "ExecuteTime": {
     "end_time": "2024-02-26T11:47:57.584841100Z",
     "start_time": "2024-02-26T11:47:57.554564900Z"
    }
   },
   "id": "bdc6a7b932e183d5",
   "execution_count": 18
  },
  {
   "cell_type": "markdown",
   "source": [
    "### 2.2.7 Пример\n",
    "Требуется отобрать строки фрейма данных на основе некоторого условия. Необходимо сформировать новый фрейм данных из пассажиров первого класса."
   ],
   "metadata": {
    "collapsed": false
   },
   "id": "e1861766edc5603e"
  },
  {
   "cell_type": "code",
   "outputs": [
    {
     "data": {
      "text/plain": "   PassengerId  Survived  Pclass  \\\n1            2         1       1   \n3            4         1       1   \n\n                                                Name     Sex   Age  SibSp  \\\n1  Cumings, Mrs. John Bradley (Florence Briggs Th...  female  38.0      1   \n3       Futrelle, Mrs. Jacques Heath (Lily May Peel)  female  35.0      1   \n\n   Parch    Ticket     Fare Cabin Embarked  \n1      0  PC 17599  71.2833   C85        C  \n3      0    113803  53.1000  C123        S  ",
      "text/html": "<div>\n<style scoped>\n    .dataframe tbody tr th:only-of-type {\n        vertical-align: middle;\n    }\n\n    .dataframe tbody tr th {\n        vertical-align: top;\n    }\n\n    .dataframe thead th {\n        text-align: right;\n    }\n</style>\n<table border=\"1\" class=\"dataframe\">\n  <thead>\n    <tr style=\"text-align: right;\">\n      <th></th>\n      <th>PassengerId</th>\n      <th>Survived</th>\n      <th>Pclass</th>\n      <th>Name</th>\n      <th>Sex</th>\n      <th>Age</th>\n      <th>SibSp</th>\n      <th>Parch</th>\n      <th>Ticket</th>\n      <th>Fare</th>\n      <th>Cabin</th>\n      <th>Embarked</th>\n    </tr>\n  </thead>\n  <tbody>\n    <tr>\n      <th>1</th>\n      <td>2</td>\n      <td>1</td>\n      <td>1</td>\n      <td>Cumings, Mrs. John Bradley (Florence Briggs Th...</td>\n      <td>female</td>\n      <td>38.0</td>\n      <td>1</td>\n      <td>0</td>\n      <td>PC 17599</td>\n      <td>71.2833</td>\n      <td>C85</td>\n      <td>C</td>\n    </tr>\n    <tr>\n      <th>3</th>\n      <td>4</td>\n      <td>1</td>\n      <td>1</td>\n      <td>Futrelle, Mrs. Jacques Heath (Lily May Peel)</td>\n      <td>female</td>\n      <td>35.0</td>\n      <td>1</td>\n      <td>0</td>\n      <td>113803</td>\n      <td>53.1000</td>\n      <td>C123</td>\n      <td>S</td>\n    </tr>\n  </tbody>\n</table>\n</div>"
     },
     "execution_count": 19,
     "metadata": {},
     "output_type": "execute_result"
    }
   ],
   "source": [
    "dataframe_1[dataframe_1['Pclass'] == 1].head(2)"
   ],
   "metadata": {
    "collapsed": false,
    "ExecuteTime": {
     "end_time": "2024-02-26T11:47:57.635403Z",
     "start_time": "2024-02-26T11:47:57.566876700Z"
    }
   },
   "id": "b85a315d8612ee23",
   "execution_count": 19
  },
  {
   "cell_type": "markdown",
   "source": [
    "### 2.3.1 Задание\n",
    "Найдите евклидово расстояние между двумя Series (точками) a и b, не используя встроенную формулу."
   ],
   "metadata": {
    "collapsed": false
   },
   "id": "a0c8bcf2f0d38170"
  },
  {
   "cell_type": "code",
   "outputs": [
    {
     "name": "stdout",
     "output_type": "stream",
     "text": [
      "11.180339887498949\n"
     ]
    }
   ],
   "source": [
    "ser1 = pd.Series([1,2,3,4,5])\n",
    "ser2 = pd.Series([6,7,8,9,10])\n",
    "euclidean_distance = np.sqrt(np.sum((np.array(ser1) - np.array(ser2))**2))\n",
    "print(euclidean_distance)"
   ],
   "metadata": {
    "collapsed": false,
    "ExecuteTime": {
     "end_time": "2024-02-26T11:47:57.640041700Z",
     "start_time": "2024-02-26T11:47:57.581077300Z"
    }
   },
   "id": "3218e950e8324476",
   "execution_count": 20
  },
  {
   "cell_type": "markdown",
   "source": [
    "### 2.3.2 Задание\n",
    "Найдите в Интернете ссылку на любой csv файл и сформируйте из него фрейм данных (например, коллекцию фреймов данных можно найти здесь: https://github.com/akmand/datasets)."
   ],
   "metadata": {
    "collapsed": false
   },
   "id": "fb42c2762e40ffd6"
  },
  {
   "cell_type": "code",
   "outputs": [
    {
     "name": "stdout",
     "output_type": "stream",
     "text": [
      "  Airline  Flight AirportFrom AirportTo  DayOfWeek  Time  Length  Delay\n",
      "0      CO     269         SFO       IAH          3    15     205      1\n",
      "1      US    1558         PHX       CLT          3    15     222      1\n",
      "2      AA    2400         LAX       DFW          3    20     165      1\n",
      "3      AA    2466         SFO       DFW          3    20     195      1\n",
      "4      AS     108         ANC       SEA          3    30     202      0\n"
     ]
    }
   ],
   "source": [
    "import pandas as pd\n",
    "\n",
    "# Замените URL на актуальный путь к CSV-файлу\n",
    "url = \"https://raw.githubusercontent.com/akmand/datasets/main/airlines.csv\"\n",
    "\n",
    "# Загрузка данных в DataFrame\n",
    "df = pd.read_csv(url, sep=',')\n",
    "\n",
    "# Вывод первых нескольких строк DataFrame\n",
    "print(df.head())\n"
   ],
   "metadata": {
    "collapsed": false,
    "ExecuteTime": {
     "end_time": "2024-02-26T11:48:47.222379Z",
     "start_time": "2024-02-26T11:47:57.586837Z"
    }
   },
   "id": "53ace12e701e27aa",
   "execution_count": 21
  },
  {
   "cell_type": "markdown",
   "source": [
    "### 2.3.3 Задание\n",
    "Проделайте с получившемся из предыдущего задания фреймом данных те же действия, что и в примерах 2.2.5-2.2.7."
   ],
   "metadata": {
    "collapsed": false
   },
   "id": "a36715161ad3abc6"
  },
  {
   "cell_type": "code",
   "outputs": [
    {
     "name": "stdout",
     "output_type": "stream",
     "text": [
      "  Airline  Flight AirportFrom AirportTo  DayOfWeek  Time  Length  Delay\n",
      "0      CO     269         SFO       IAH          3    15     205      1\n",
      "1      US    1558         PHX       CLT          3    15     222      1\n",
      "       Airline  Flight AirportFrom AirportTo  DayOfWeek  Time  Length  Delay\n",
      "539380      FL     609         SFO       MKE          5  1439     255      0\n",
      "539381      UA      78         HNL       SFO          5  1439     313      1\n",
      "539382      US    1442         LAX       PHL          5  1439     301      1\n",
      "(539383, 8)\n"
     ]
    },
    {
     "data": {
      "text/plain": "              Flight      DayOfWeek           Time         Length  \\\ncount  539383.000000  539383.000000  539383.000000  539383.000000   \nmean     2427.928630       3.929668     802.728963     132.202007   \nstd      2067.429837       1.914664     278.045911      70.117016   \nmin         1.000000       1.000000      10.000000       0.000000   \n25%       712.000000       2.000000     565.000000      81.000000   \n50%      1809.000000       4.000000     795.000000     115.000000   \n75%      3745.000000       5.000000    1035.000000     162.000000   \nmax      7814.000000       7.000000    1439.000000     655.000000   \n\n               Delay  \ncount  539383.000000  \nmean        0.445442  \nstd         0.497015  \nmin         0.000000  \n25%         0.000000  \n50%         0.000000  \n75%         1.000000  \nmax         1.000000  ",
      "text/html": "<div>\n<style scoped>\n    .dataframe tbody tr th:only-of-type {\n        vertical-align: middle;\n    }\n\n    .dataframe tbody tr th {\n        vertical-align: top;\n    }\n\n    .dataframe thead th {\n        text-align: right;\n    }\n</style>\n<table border=\"1\" class=\"dataframe\">\n  <thead>\n    <tr style=\"text-align: right;\">\n      <th></th>\n      <th>Flight</th>\n      <th>DayOfWeek</th>\n      <th>Time</th>\n      <th>Length</th>\n      <th>Delay</th>\n    </tr>\n  </thead>\n  <tbody>\n    <tr>\n      <th>count</th>\n      <td>539383.000000</td>\n      <td>539383.000000</td>\n      <td>539383.000000</td>\n      <td>539383.000000</td>\n      <td>539383.000000</td>\n    </tr>\n    <tr>\n      <th>mean</th>\n      <td>2427.928630</td>\n      <td>3.929668</td>\n      <td>802.728963</td>\n      <td>132.202007</td>\n      <td>0.445442</td>\n    </tr>\n    <tr>\n      <th>std</th>\n      <td>2067.429837</td>\n      <td>1.914664</td>\n      <td>278.045911</td>\n      <td>70.117016</td>\n      <td>0.497015</td>\n    </tr>\n    <tr>\n      <th>min</th>\n      <td>1.000000</td>\n      <td>1.000000</td>\n      <td>10.000000</td>\n      <td>0.000000</td>\n      <td>0.000000</td>\n    </tr>\n    <tr>\n      <th>25%</th>\n      <td>712.000000</td>\n      <td>2.000000</td>\n      <td>565.000000</td>\n      <td>81.000000</td>\n      <td>0.000000</td>\n    </tr>\n    <tr>\n      <th>50%</th>\n      <td>1809.000000</td>\n      <td>4.000000</td>\n      <td>795.000000</td>\n      <td>115.000000</td>\n      <td>0.000000</td>\n    </tr>\n    <tr>\n      <th>75%</th>\n      <td>3745.000000</td>\n      <td>5.000000</td>\n      <td>1035.000000</td>\n      <td>162.000000</td>\n      <td>1.000000</td>\n    </tr>\n    <tr>\n      <th>max</th>\n      <td>7814.000000</td>\n      <td>7.000000</td>\n      <td>1439.000000</td>\n      <td>655.000000</td>\n      <td>1.000000</td>\n    </tr>\n  </tbody>\n</table>\n</div>"
     },
     "execution_count": 22,
     "metadata": {},
     "output_type": "execute_result"
    }
   ],
   "source": [
    "print(df.head(2))\n",
    "print(df.tail(3))\n",
    "print(df.shape)\n",
    "df.describe()\n",
    "\n"
   ],
   "metadata": {
    "collapsed": false,
    "ExecuteTime": {
     "end_time": "2024-02-26T11:48:47.319078300Z",
     "start_time": "2024-02-26T11:48:47.223359800Z"
    }
   },
   "id": "6ead742c951af0f9",
   "execution_count": 22
  },
  {
   "cell_type": "code",
   "outputs": [
    {
     "data": {
      "text/plain": "  Airline  Flight AirportFrom AirportTo  DayOfWeek  Time  Length  Delay\n1      US    1558         PHX       CLT          3    15     222      1\n2      AA    2400         LAX       DFW          3    20     165      1\n3      AA    2466         SFO       DFW          3    20     195      1",
      "text/html": "<div>\n<style scoped>\n    .dataframe tbody tr th:only-of-type {\n        vertical-align: middle;\n    }\n\n    .dataframe tbody tr th {\n        vertical-align: top;\n    }\n\n    .dataframe thead th {\n        text-align: right;\n    }\n</style>\n<table border=\"1\" class=\"dataframe\">\n  <thead>\n    <tr style=\"text-align: right;\">\n      <th></th>\n      <th>Airline</th>\n      <th>Flight</th>\n      <th>AirportFrom</th>\n      <th>AirportTo</th>\n      <th>DayOfWeek</th>\n      <th>Time</th>\n      <th>Length</th>\n      <th>Delay</th>\n    </tr>\n  </thead>\n  <tbody>\n    <tr>\n      <th>1</th>\n      <td>US</td>\n      <td>1558</td>\n      <td>PHX</td>\n      <td>CLT</td>\n      <td>3</td>\n      <td>15</td>\n      <td>222</td>\n      <td>1</td>\n    </tr>\n    <tr>\n      <th>2</th>\n      <td>AA</td>\n      <td>2400</td>\n      <td>LAX</td>\n      <td>DFW</td>\n      <td>3</td>\n      <td>20</td>\n      <td>165</td>\n      <td>1</td>\n    </tr>\n    <tr>\n      <th>3</th>\n      <td>AA</td>\n      <td>2466</td>\n      <td>SFO</td>\n      <td>DFW</td>\n      <td>3</td>\n      <td>20</td>\n      <td>195</td>\n      <td>1</td>\n    </tr>\n  </tbody>\n</table>\n</div>"
     },
     "execution_count": 23,
     "metadata": {},
     "output_type": "execute_result"
    }
   ],
   "source": [
    "df.iloc[1:4]"
   ],
   "metadata": {
    "collapsed": false,
    "ExecuteTime": {
     "end_time": "2024-02-26T11:48:47.329284100Z",
     "start_time": "2024-02-26T11:48:47.321081800Z"
    }
   },
   "id": "fe7a4b1b427f476b",
   "execution_count": 23
  },
  {
   "cell_type": "code",
   "outputs": [
    {
     "data": {
      "text/plain": "    Airline  Flight AirportFrom AirportTo  DayOfWeek  Time  Length  Delay\n0        CO     269         SFO       IAH          3    15     205      1\n219      AA    1878         SMF       DFW          3   360     205      0",
      "text/html": "<div>\n<style scoped>\n    .dataframe tbody tr th:only-of-type {\n        vertical-align: middle;\n    }\n\n    .dataframe tbody tr th {\n        vertical-align: top;\n    }\n\n    .dataframe thead th {\n        text-align: right;\n    }\n</style>\n<table border=\"1\" class=\"dataframe\">\n  <thead>\n    <tr style=\"text-align: right;\">\n      <th></th>\n      <th>Airline</th>\n      <th>Flight</th>\n      <th>AirportFrom</th>\n      <th>AirportTo</th>\n      <th>DayOfWeek</th>\n      <th>Time</th>\n      <th>Length</th>\n      <th>Delay</th>\n    </tr>\n  </thead>\n  <tbody>\n    <tr>\n      <th>0</th>\n      <td>CO</td>\n      <td>269</td>\n      <td>SFO</td>\n      <td>IAH</td>\n      <td>3</td>\n      <td>15</td>\n      <td>205</td>\n      <td>1</td>\n    </tr>\n    <tr>\n      <th>219</th>\n      <td>AA</td>\n      <td>1878</td>\n      <td>SMF</td>\n      <td>DFW</td>\n      <td>3</td>\n      <td>360</td>\n      <td>205</td>\n      <td>0</td>\n    </tr>\n  </tbody>\n</table>\n</div>"
     },
     "execution_count": 24,
     "metadata": {},
     "output_type": "execute_result"
    }
   ],
   "source": [
    "df[df['Length'] == 205].head(2)\n"
   ],
   "metadata": {
    "collapsed": false,
    "ExecuteTime": {
     "end_time": "2024-02-26T11:48:47.350557800Z",
     "start_time": "2024-02-26T11:48:47.332287Z"
    }
   },
   "id": "bfebf2e2ce8ec44b",
   "execution_count": 24
  },
  {
   "cell_type": "markdown",
   "source": [
    "###3.1. Теоретический материал – Работа с числовыми данными \n",
    "Количественные данные что-то измеряют – будь то размер класса, ежемесячные продажи или оценки учащихся. Естественным способом представления этих величин является численным (например, 150 студентов, $529 392 продаж). Нормализация данных — это общепринятая задача предобработки в машинном обучении. Многие алгоритмы предполагают, что все признаки находятся в единой шкале, как правило, от 0 до 1 или от -1 до 1. Существует множество способов нормализации значений признаков, чтобы масштабировать их к единому диапазону и использовать в различных моделях машинного обучения. В зависимости от используемой функции, их можно разделить на 2 большие группы: линейные и нелинейные. При нелинейной нормализации в расчетных соотношениях используются функции логистической сигмоиды или гиперболического тангенса. В линейной нормализации изменение переменных осуществляется пропорционально, по линейному закону. На практике наиболее распространены следующие методы нормализации признаков:  Минимакс – линейное преобразование данных в диапазоне [0..1], где минимальное и максимальное масштабируемые значения соответствуют 0 и 1 соответственно;  Z-масштабирование данных на основе среднего значения и стандартного отклонения: производят деление разницы между переменной и средним значением на стандартное отклонение.\n",
    "При масштабировании данных мы будем использовать одну из популярных библиотек машинного обучения Scikit-learn. Библиотека содержит пакет sklearn.preprocessing, который предоставляет широкие возможности для нормализации данных. Следует отметить, что в целом алгоритмы обучения выигрывают от стандартизации набора данных."
   ],
   "metadata": {
    "collapsed": false
   },
   "id": "7f605728839304ae"
  },
  {
   "cell_type": "markdown",
   "source": [
    "### 3.2.1. Пример\n",
    "Прошкалируйте числовой признак в диапазон между двумя значениями."
   ],
   "metadata": {
    "collapsed": false
   },
   "id": "e53b519f4e1bde87"
  },
  {
   "cell_type": "code",
   "outputs": [
    {
     "data": {
      "text/plain": "array([[0.        ],\n       [0.28571429],\n       [0.35714286],\n       [0.42857143],\n       [1.        ]])"
     },
     "execution_count": 25,
     "metadata": {},
     "output_type": "execute_result"
    }
   ],
   "source": [
    "# Загрузить библиотеки\n",
    "import numpy as np\n",
    "from sklearn import preprocessing\n",
    "# Создать признак\n",
    "feature = np.array([[-500.5], [-100.1], [0], [100.1], [900.9]])\n",
    "# Создать шкалировщик\n",
    "minmax_scale = preprocessing.MinMaxScaler(feature_range = (0, 1))\n",
    "\n",
    "# Прошкалировать признак\n",
    "scaled_feature = minmax_scale.fit_transform(feature)\n",
    "#Показать прошкалированный признак\n",
    "scaled_feature"
   ],
   "metadata": {
    "collapsed": false,
    "ExecuteTime": {
     "end_time": "2024-02-26T11:48:47.475618100Z",
     "start_time": "2024-02-26T11:48:47.343457600Z"
    }
   },
   "id": "2e0b59b7f3985c7",
   "execution_count": 25
  },
  {
   "cell_type": "markdown",
   "source": [
    "### 3.2.2. Пример\n",
    "Преобразуйте признак, чтобы он имел среднее значение 0 и стандартное отклонение 1."
   ],
   "metadata": {
    "collapsed": false
   },
   "id": "9b3e5c08c04241d8"
  },
  {
   "cell_type": "code",
   "outputs": [
    {
     "data": {
      "text/plain": "array([[-0.76058269],\n       [-0.54177196],\n       [-0.35009716],\n       [-0.32271504],\n       [ 1.97516685]])"
     },
     "execution_count": 26,
     "metadata": {},
     "output_type": "execute_result"
    }
   ],
   "source": [
    "x = np.array([[-1000.1], [-200.2], [500.5], [600.6], [9000.9]])\n",
    "# Создать шкалировщик\n",
    "scaler = preprocessing.StandardScaler()\n",
    "# Преобразовать признак\n",
    "standardized = scaler.fit_transform(x)\n",
    "# Показать признак\n",
    "standardized\n",
    "\n"
   ],
   "metadata": {
    "collapsed": false,
    "ExecuteTime": {
     "end_time": "2024-02-26T11:48:47.487627800Z",
     "start_time": "2024-02-26T11:48:47.443163600Z"
    }
   },
   "id": "2f911efb6451108a",
   "execution_count": 26
  },
  {
   "cell_type": "code",
   "outputs": [
    {
     "name": "stdout",
     "output_type": "stream",
     "text": [
      "Среднее: 0\n",
      "Стандартное отклонение:  1.0\n"
     ]
    }
   ],
   "source": [
    "print(\"Среднее:\", round(standardized.mean())) \n",
    "print(\"Стандартное отклонение: \", standardized.std())"
   ],
   "metadata": {
    "collapsed": false,
    "ExecuteTime": {
     "end_time": "2024-02-26T11:48:47.496776400Z",
     "start_time": "2024-02-26T11:48:47.450676400Z"
    }
   },
   "id": "477755900cd2337a",
   "execution_count": 27
  },
  {
   "cell_type": "markdown",
   "source": [],
   "metadata": {
    "collapsed": false
   },
   "id": "15f60453f59b8ce9"
  },
  {
   "cell_type": "markdown",
   "source": [
    "### 3.2.3. Пример\n",
    "Дан фрейм данных\n",
    "<pre>\n",
    "dfTest = pd.DataFrame({'A':[14.00,90.20,90.95,96.27,91.21],\n",
    "'B':[103.02,107.26,110.35,114.23,114.68],\n",
    "'C':['big','small','big','small','small']})\n",
    "</pre>\n",
    "Необходимо масштабировать его числовые столбцы."
   ],
   "metadata": {
    "collapsed": false
   },
   "id": "3c63c126097c8cb8"
  },
  {
   "cell_type": "code",
   "outputs": [
    {
     "data": {
      "text/plain": "          A         B      C\n0  0.000000  0.000000    big\n1  0.926219  0.363636  small\n2  0.935335  0.628645    big\n3  1.000000  0.961407  small\n4  0.938495  1.000000  small",
      "text/html": "<div>\n<style scoped>\n    .dataframe tbody tr th:only-of-type {\n        vertical-align: middle;\n    }\n\n    .dataframe tbody tr th {\n        vertical-align: top;\n    }\n\n    .dataframe thead th {\n        text-align: right;\n    }\n</style>\n<table border=\"1\" class=\"dataframe\">\n  <thead>\n    <tr style=\"text-align: right;\">\n      <th></th>\n      <th>A</th>\n      <th>B</th>\n      <th>C</th>\n    </tr>\n  </thead>\n  <tbody>\n    <tr>\n      <th>0</th>\n      <td>0.000000</td>\n      <td>0.000000</td>\n      <td>big</td>\n    </tr>\n    <tr>\n      <th>1</th>\n      <td>0.926219</td>\n      <td>0.363636</td>\n      <td>small</td>\n    </tr>\n    <tr>\n      <th>2</th>\n      <td>0.935335</td>\n      <td>0.628645</td>\n      <td>big</td>\n    </tr>\n    <tr>\n      <th>3</th>\n      <td>1.000000</td>\n      <td>0.961407</td>\n      <td>small</td>\n    </tr>\n    <tr>\n      <th>4</th>\n      <td>0.938495</td>\n      <td>1.000000</td>\n      <td>small</td>\n    </tr>\n  </tbody>\n</table>\n</div>"
     },
     "execution_count": 28,
     "metadata": {},
     "output_type": "execute_result"
    }
   ],
   "source": [
    "import pandas as pd\n",
    "from sklearn.preprocessing import MinMaxScaler, StandardScaler\n",
    "\n",
    "scaler = MinMaxScaler()\n",
    "dfTest = pd.DataFrame({'A':[14.00,90.20,90.95,96.27,91.21],\n",
    "'B':[103.02,107.26,110.35,114.23,114.68],\n",
    "'C':['big','small','big','small','small']})\n",
    "dfTest[['A', 'B']] = scaler.fit_transform(dfTest[['A', 'B']]) \n",
    "dfTest"
   ],
   "metadata": {
    "collapsed": false,
    "ExecuteTime": {
     "end_time": "2024-02-26T11:48:47.509860800Z",
     "start_time": "2024-02-26T11:48:47.459894900Z"
    }
   },
   "id": "b363ff9e58dd887",
   "execution_count": 28
  },
  {
   "cell_type": "markdown",
   "source": [
    "### 3.3.2 Задание\n",
    "Загрузить фрейм данных по ссылке:\n",
    "https://raw.githubusercontent.com/akmand/datasets/master/iris.csv.\n",
    "Необходимо выполнить нормализацию первого числового признака (sepal_length_cm) с использованием минимаксного преобразования, а второго (sepal_width_cm) с задействованием z-масштабирования."
   ],
   "metadata": {
    "collapsed": false
   },
   "id": "462336561e047c9"
  },
  {
   "cell_type": "code",
   "outputs": [
    {
     "name": "stdout",
     "output_type": "stream",
     "text": [
      "     sepal_length_cm  sepal_width_cm  petal_length_cm  petal_width_cm  \\\n",
      "0           0.222222        1.032057              1.4             0.2   \n",
      "1           0.166667       -0.124958              1.4             0.2   \n",
      "2           0.111111        0.337848              1.3             0.2   \n",
      "3           0.083333        0.106445              1.5             0.2   \n",
      "4           0.194444        1.263460              1.4             0.2   \n",
      "..               ...             ...              ...             ...   \n",
      "145         0.666667       -0.124958              5.2             2.3   \n",
      "146         0.555556       -1.281972              5.0             1.9   \n",
      "147         0.611111       -0.124958              5.2             2.0   \n",
      "148         0.527778        0.800654              5.4             2.3   \n",
      "149         0.444444       -0.124958              5.1             1.8   \n",
      "\n",
      "       species  \n",
      "0       setosa  \n",
      "1       setosa  \n",
      "2       setosa  \n",
      "3       setosa  \n",
      "4       setosa  \n",
      "..         ...  \n",
      "145  virginica  \n",
      "146  virginica  \n",
      "147  virginica  \n",
      "148  virginica  \n",
      "149  virginica  \n",
      "\n",
      "[150 rows x 5 columns]\n"
     ]
    }
   ],
   "source": [
    "from sklearn.preprocessing import MinMaxScaler, StandardScaler\n",
    "\n",
    "url= 'https://raw.githubusercontent.com/akmand/datasets/master/iris.csv'\n",
    "dataf = pd.read_csv(url)\n",
    "\n",
    "min_max_scale = MinMaxScaler()\n",
    "dataf[['sepal_length_cm']]=min_max_scale.fit_transform(dataf[['sepal_length_cm']])\n",
    "z_scaler=StandardScaler()\n",
    "dataf[['sepal_width_cm']] = z_scaler.fit_transform(dataf[['sepal_width_cm']])\n",
    "\n",
    "print(dataf)"
   ],
   "metadata": {
    "collapsed": false,
    "ExecuteTime": {
     "end_time": "2024-02-26T11:48:47.909972700Z",
     "start_time": "2024-02-26T11:48:47.473623400Z"
    }
   },
   "id": "bf5105cce85abe29",
   "execution_count": 29
  }
 ],
 "metadata": {
  "kernelspec": {
   "display_name": "Python 3",
   "language": "python",
   "name": "python3"
  },
  "language_info": {
   "codemirror_mode": {
    "name": "ipython",
    "version": 2
   },
   "file_extension": ".py",
   "mimetype": "text/x-python",
   "name": "python",
   "nbconvert_exporter": "python",
   "pygments_lexer": "ipython2",
   "version": "2.7.6"
  }
 },
 "nbformat": 4,
 "nbformat_minor": 5
}
