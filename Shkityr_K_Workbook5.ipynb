{
 "cells": [
  {
   "cell_type": "code",
   "outputs": [
    {
     "ename": "ValueError",
     "evalue": "invalid literal for int() with base 10: ''",
     "output_type": "error",
     "traceback": [
      "\u001B[1;31m---------------------------------------------------------------------------\u001B[0m",
      "\u001B[1;31mValueError\u001B[0m                                Traceback (most recent call last)",
      "Cell \u001B[1;32mIn[13], line 18\u001B[0m\n\u001B[0;32m     16\u001B[0m warrior1 \u001B[38;5;241m=\u001B[39m Warrior(\u001B[38;5;241m100\u001B[39m) \n\u001B[0;32m     17\u001B[0m warrior2 \u001B[38;5;241m=\u001B[39m Warrior(\u001B[38;5;241m100\u001B[39m)\n\u001B[1;32m---> 18\u001B[0m q \u001B[38;5;241m=\u001B[39m \u001B[38;5;28;43mint\u001B[39;49m\u001B[43m(\u001B[49m\u001B[38;5;28;43minput\u001B[39;49m\u001B[43m(\u001B[49m\u001B[38;5;124;43m\"\u001B[39;49m\u001B[38;5;124;43mEnter 1 to attack. Enter 2 to stop program:\u001B[39;49m\u001B[38;5;124;43m\"\u001B[39;49m\u001B[43m)\u001B[49m\u001B[43m)\u001B[49m\n\u001B[0;32m     19\u001B[0m \u001B[38;5;28;01mwhile\u001B[39;00m q \u001B[38;5;241m!=\u001B[39m \u001B[38;5;241m2\u001B[39m:\n\u001B[0;32m     20\u001B[0m     \u001B[38;5;28;01mif\u001B[39;00m q \u001B[38;5;241m==\u001B[39m \u001B[38;5;241m1\u001B[39m:\n",
      "\u001B[1;31mValueError\u001B[0m: invalid literal for int() with base 10: ''"
     ]
    }
   ],
   "source": [
    "import random\n",
    "class Warrior:\n",
    "    def __init__(self, health): \n",
    "        self.health = health\n",
    "    def hit(self,target, target1):\n",
    "        if target.health > 0:\n",
    "            target.health -= 20\n",
    "        if target1 == warrior1: \n",
    "            target1 = \"Warrior1\"\n",
    "        if target1 == warrior2:\n",
    "            target1 = \"Warrior2\"\n",
    "        print(target1, \" has attacked\") \n",
    "        print(target.health, \" left\")\n",
    "        if target.health == 0:\n",
    "            print(target1, \"has won\")\n",
    "warrior1 = Warrior(100) \n",
    "warrior2 = Warrior(100)\n",
    "q = int(input(\"Enter 1 to attack. Enter 2 to stop program:\"))\n",
    "while q != 2:\n",
    "    if q == 1:\n",
    "        j = random.randint(1,3)\n",
    "        if j % 2 == 0:\n",
    "            warrior1.hit(warrior2, warrior1)\n",
    "            q = int(input(\"Enter 1 to let some warrior attack:\"))\n",
    "        else:\n",
    "            warrior2.hit(warrior1, warrior2)\n",
    "            q = int(input(\"Enter 1 to let some warrior attack:\"))\n",
    "    else:\n",
    "        print(\"Wrong input.\")\n",
    "        break"
   ],
   "metadata": {
    "collapsed": false,
    "ExecuteTime": {
     "end_time": "2024-03-11T06:20:53.565562Z",
     "start_time": "2024-03-11T06:20:51.901592Z"
    }
   },
   "id": "78a2d8b1b9cf9f56",
   "execution_count": 13
  },
  {
   "cell_type": "markdown",
   "source": [
    "## 1.2.3 Пример\n",
    "Задача:\n",
    "Создайте класс по работе с дробями. В классе должна быть реализована следующая функциональность:\n",
    "− сложение дробей;\n",
    "− вычитание дробей;\n",
    "− умножение дробей;\n",
    "− деление дробей."
   ],
   "metadata": {
    "collapsed": false
   },
   "id": "c55b6a5195f32b10"
  },
  {
   "cell_type": "code",
   "outputs": [
    {
     "name": "stdout",
     "output_type": "stream",
     "text": [
      "5/6\n",
      "1/6\n",
      "1/6\n",
      "1/6\n",
      "3/2\n",
      "1/2\n"
     ]
    }
   ],
   "source": [
    "class Rational:\n",
    "    @staticmethod\n",
    "    def gcd(a,b):\n",
    "        while (b != 0):\n",
    "            (a,b) = (b,a%b)\n",
    "        return a\n",
    "    \n",
    "    @staticmethod\n",
    "    def sgn(x):\n",
    "        if x>0:\n",
    "            return 1\n",
    "        elif x<0:\n",
    "            return -1 \n",
    "        else:\n",
    "            return 0\n",
    "        \n",
    "    def __init__(self,n,d):\n",
    "        if n==0:\n",
    "            self.num=0 \n",
    "            self.den=1 \n",
    "        else: \n",
    "            z=self.sgn(n)*self. sgn(d)\n",
    "            n=abs(n) \n",
    "            d=abs(d) \n",
    "            k=self.gcd(n,d)\n",
    "            self. num=z*n//k\n",
    "            self.den=d//k\n",
    "    def __str__(self): \n",
    "        if self.num==0:\n",
    "            return \"0\"\n",
    "        else:\n",
    "            return str(self.num)+\"/\"+str(self.den)\n",
    "    def __add__(self,o): \n",
    "        n1=self.num\n",
    "        d1=self.den\n",
    "        if type(o)==int:\n",
    "            n2=0 \n",
    "            d2=1\n",
    "        else:\n",
    "            n2=o.num \n",
    "            d2=o.den\n",
    "        n=n1*d2+n2*d1\n",
    "        d=d1*d2\n",
    "        return Rational(n,d)\n",
    "    def __radd__(self,o):\n",
    "        n1=self.num \n",
    "        d1=self.den \n",
    "        if type(o)==int:\n",
    "            n2=0\n",
    "            d2=1\n",
    "        else:\n",
    "            n2=o.num \n",
    "            d2=o.den\n",
    "        n=n1*d2+n2*d1 \n",
    "        d=d1*d2 \n",
    "        \n",
    "        return Rational(n,d)\n",
    "    def __sub__(self,o):\n",
    "        n1=self.num\n",
    "        d1=self.den \n",
    "        n2=o.num \n",
    "        d2=o.den \n",
    "        n=n1*d2-n2*d1 \n",
    "        d=d1*d2 \n",
    "        return Rational(n,d)\n",
    "    def __mul__(self,o): \n",
    "        n1=self.num \n",
    "        d1=self.den \n",
    "        n2=o.num \n",
    "        d2=o.den \n",
    "        n=n1*n2 \n",
    "        d=d1*d2 \n",
    "        return Rational(n,d)\n",
    "    def __floordiv__(self,o):\n",
    "        n1=self.num\n",
    "        d1=self.den\n",
    "        n2=o.num \n",
    "        d2=o.den \n",
    "        n=n1*d2\n",
    "        d=d1*n2\n",
    "        return Rational(n,d)\n",
    "d1=Rational(1,2) \n",
    "d2=Rational(1,3)\n",
    "d3=d1+d2 \n",
    "print(d3) \n",
    "d4=d1-d2 \n",
    "print(d4) \n",
    "d5=d1*d2 \n",
    "print(d5) \n",
    "d6=d1*d2 \n",
    "print(d6)\n",
    "d7=d1//d2\n",
    "print(d7)\n",
    "d8=6+d1\n",
    "print(d8)"
   ],
   "metadata": {
    "collapsed": false,
    "ExecuteTime": {
     "end_time": "2024-03-11T06:35:21.833877Z",
     "start_time": "2024-03-11T06:35:21.724307Z"
    }
   },
   "id": "570f0aeb199e334f",
   "execution_count": 14
  },
  {
   "cell_type": "code",
   "outputs": [],
   "source": [
    "class Calc:\n",
    "    def __init__(self, a,b):\n",
    "        "
   ],
   "metadata": {
    "collapsed": false
   },
   "id": "96143d5a032c886b"
  }
 ],
 "metadata": {
  "kernelspec": {
   "display_name": "Python 3",
   "language": "python",
   "name": "python3"
  },
  "language_info": {
   "codemirror_mode": {
    "name": "ipython",
    "version": 2
   },
   "file_extension": ".py",
   "mimetype": "text/x-python",
   "name": "python",
   "nbconvert_exporter": "python",
   "pygments_lexer": "ipython2",
   "version": "2.7.6"
  }
 },
 "nbformat": 4,
 "nbformat_minor": 5
}
