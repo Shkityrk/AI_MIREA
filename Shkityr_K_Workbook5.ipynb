{
 "cells": [
  {
   "cell_type": "code",
   "outputs": [
    {
     "name": "stdout",
     "output_type": "stream",
     "text": [
      "['inheritance']\n",
      "['inheritance', 'class']\n"
     ]
    }
   ],
   "source": [
    "class Data:\n",
    "    def __init__(self, *info):\n",
    "        self. info = list(info)\n",
    "    def __getitem__(self, i):\n",
    "        return self.info [i]\n",
    "class Teacher:\n",
    "    def teach(self, info, *pupil):\n",
    "        for i in pupil:\n",
    "            i.take(info)\n",
    "class Pupil:\n",
    "    def __init__(self):\n",
    "        self.knowledge = []\n",
    "    def take(self, info):\n",
    "        self.knowledge.append(info)\n",
    "lesson = Data('class', 'object', 'inheritance', 'polymorphism', 'encapsulation')\n",
    "marIvanna = Teacher()\n",
    "vasy = Pupil()\n",
    "pety = Pupil()\n",
    "marIvanna. teach(lesson[2], vasy, pety)\n",
    "marIvanna.teach(lesson[0], pety)\n",
    "print(vasy. knowledge)\n",
    "print(pety.knowledge)\n"
   ],
   "metadata": {
    "collapsed": false,
    "ExecuteTime": {
     "end_time": "2024-03-25T11:38:00.247948Z",
     "start_time": "2024-03-25T11:38:00.222664Z"
    }
   },
   "id": "78a2d8b1b9cf9f56",
   "execution_count": 1
  },
  {
   "cell_type": "markdown",
   "source": [
    "## 1.2.3 Пример\n",
    "Задача:\n",
    "Создайте класс по работе с дробями. В классе должна быть реализована следующая функциональность:\n",
    "− сложение дробей;\n",
    "− вычитание дробей;\n",
    "− умножение дробей;\n",
    "− деление дробей."
   ],
   "metadata": {
    "collapsed": false
   },
   "id": "c55b6a5195f32b10"
  },
  {
   "cell_type": "code",
   "outputs": [
    {
     "name": "stdout",
     "output_type": "stream",
     "text": [
      "5/6\n",
      "1/6\n",
      "1/6\n",
      "1/6\n",
      "3/2\n",
      "1/2\n"
     ]
    }
   ],
   "source": [
    "class Rational:\n",
    "    @staticmethod\n",
    "    def gcd(a,b):\n",
    "        while (b != 0):\n",
    "            (a,b) = (b,a%b)\n",
    "        return a\n",
    "    \n",
    "    @staticmethod\n",
    "    def sgn(x):\n",
    "        if x>0:\n",
    "            return 1\n",
    "        elif x<0:\n",
    "            return -1 \n",
    "        else:\n",
    "            return 0\n",
    "        \n",
    "    def __init__(self,n,d):\n",
    "        if n==0:\n",
    "            self.num=0 \n",
    "            self.den=1 \n",
    "        else: \n",
    "            z=self.sgn(n)*self. sgn(d)\n",
    "            n=abs(n) \n",
    "            d=abs(d) \n",
    "            k=self.gcd(n,d)\n",
    "            self. num=z*n//k\n",
    "            self.den=d//k\n",
    "    def __str__(self): \n",
    "        if self.num==0:\n",
    "            return \"0\"\n",
    "        else:\n",
    "            return str(self.num)+\"/\"+str(self.den)\n",
    "    def __add__(self,o): \n",
    "        n1=self.num\n",
    "        d1=self.den\n",
    "        if type(o)==int:\n",
    "            n2=0 \n",
    "            d2=1\n",
    "        else:\n",
    "            n2=o.num \n",
    "            d2=o.den\n",
    "        n=n1*d2+n2*d1\n",
    "        d=d1*d2\n",
    "        return Rational(n,d)\n",
    "    def __radd__(self,o):\n",
    "        n1=self.num \n",
    "        d1=self.den \n",
    "        if type(o)==int:\n",
    "            n2=0\n",
    "            d2=1\n",
    "        else:\n",
    "            n2=o.num \n",
    "            d2=o.den\n",
    "        n=n1*d2+n2*d1 \n",
    "        d=d1*d2 \n",
    "        \n",
    "        return Rational(n,d)\n",
    "    def __sub__(self,o):\n",
    "        n1=self.num\n",
    "        d1=self.den \n",
    "        n2=o.num \n",
    "        d2=o.den \n",
    "        n=n1*d2-n2*d1 \n",
    "        d=d1*d2 \n",
    "        return Rational(n,d)\n",
    "    def __mul__(self,o): \n",
    "        n1=self.num \n",
    "        d1=self.den \n",
    "        n2=o.num \n",
    "        d2=o.den \n",
    "        n=n1*n2 \n",
    "        d=d1*d2 \n",
    "        return Rational(n,d)\n",
    "    def __floordiv__(self,o):\n",
    "        n1=self.num\n",
    "        d1=self.den\n",
    "        n2=o.num \n",
    "        d2=o.den \n",
    "        n=n1*d2\n",
    "        d=d1*n2\n",
    "        return Rational(n,d)\n",
    "d1=Rational(1,2) \n",
    "d2=Rational(1,3)\n",
    "d3=d1+d2 \n",
    "print(d3) \n",
    "d4=d1-d2 \n",
    "print(d4) \n",
    "d5=d1*d2 \n",
    "print(d5) \n",
    "d6=d1*d2 \n",
    "print(d6)\n",
    "d7=d1//d2\n",
    "print(d7)\n",
    "d8=6+d1\n",
    "print(d8)"
   ],
   "metadata": {
    "collapsed": false,
    "ExecuteTime": {
     "end_time": "2024-03-25T11:38:00.280262Z",
     "start_time": "2024-03-25T11:38:00.254020Z"
    }
   },
   "id": "570f0aeb199e334f",
   "execution_count": 2
  },
  {
   "cell_type": "markdown",
   "source": [
    "## Задание\n",
    "Создайте класс по работе с тригонометрическими функциями. В классе должны быть реализованы функции вычисления:\n",
    "− косинуса;\n",
    "− синуса;\n",
    "− тангенса;\n",
    "− арксинуса;\n",
    "− арккосинуса;\n",
    "− арктангенса;\n",
    "− перевода из градусов в радианы."
   ],
   "metadata": {
    "collapsed": false
   },
   "id": "b5e4932fee5dec6a"
  },
  {
   "cell_type": "code",
   "outputs": [
    {
     "name": "stdout",
     "output_type": "stream",
     "text": [
      "sin(45 degrees): 0.7071067811865476\n",
      "cos(45 degrees): 0.7071067811865476\n",
      "tan(45 degrees): 0.9999999999999999\n",
      "arcsin(0.7071): 0.7853885733974476\n",
      "arccos(0.7071): 0.785407753397449\n",
      "arctan(1): 0.7853981633974483\n"
     ]
    }
   ],
   "source": [
    "import math\n",
    "\n",
    "class Trigonometry:\n",
    "    def __init__(self):\n",
    "        pass\n",
    "    \n",
    "    def cos(self, angle):\n",
    "        return math.cos(angle)\n",
    "    \n",
    "    def sin(self, angle):\n",
    "        return math.sin(angle)\n",
    "    \n",
    "    def tan(self, angle):\n",
    "        return math.tan(angle)\n",
    "    \n",
    "    def arcsin(self, value):\n",
    "        return math.asin(value)\n",
    "    \n",
    "    def arccos(self, value):\n",
    "        return math.acos(value)\n",
    "    \n",
    "    def arctan(self, value):\n",
    "        return math.atan(value)\n",
    "    \n",
    "    def deg_to_rad(self, degrees):\n",
    "        return math.radians(degrees)\n",
    "\n",
    "# Пример использования класса\n",
    "trig = Trigonometry()\n",
    "angle_degrees = 45\n",
    "angle_radians = trig.deg_to_rad(angle_degrees)\n",
    "print(\"sin(45 degrees):\", trig.sin(angle_radians))\n",
    "print(\"cos(45 degrees):\", trig.cos(angle_radians))\n",
    "print(\"tan(45 degrees):\", trig.tan(angle_radians))\n",
    "print(\"arcsin(0.7071):\", trig.arcsin(0.7071))\n",
    "print(\"arccos(0.7071):\", trig.arccos(0.7071))\n",
    "print(\"arctan(1):\", trig.arctan(1))\n"
   ],
   "metadata": {
    "collapsed": false,
    "ExecuteTime": {
     "end_time": "2024-03-25T11:38:00.321363Z",
     "start_time": "2024-03-25T11:38:00.286752Z"
    }
   },
   "id": "47c3fe9ae12c9f6a",
   "execution_count": 3
  },
  {
   "cell_type": "markdown",
   "source": [
    "## 1.2.1 Пример\n",
    "Задача: Определите класс бинарного дерева и задайте его объекты с отдельным атрибутом для каждого из потомков."
   ],
   "metadata": {
    "collapsed": false
   },
   "id": "c46ffbe2edcff125"
  },
  {
   "cell_type": "code",
   "outputs": [
    {
     "data": {
      "text/plain": "'b'"
     },
     "execution_count": 4,
     "metadata": {},
     "output_type": "execute_result"
    }
   ],
   "source": [
    "class Tree:\n",
    "    def __init__(self, left, right):\n",
    "        self.left=left\n",
    "        self.right=right\n",
    "\n",
    "t = Tree(Tree(\"a\", \"b\"), Tree(\"c\", \"d\"))\n",
    "t.left.right"
   ],
   "metadata": {
    "collapsed": false,
    "ExecuteTime": {
     "end_time": "2024-03-25T11:38:00.347527Z",
     "start_time": "2024-03-25T11:38:00.326542Z"
    }
   },
   "id": "212ae008fd9b2892",
   "execution_count": 4
  },
  {
   "cell_type": "code",
   "outputs": [
    {
     "data": {
      "text/plain": "'c'"
     },
     "execution_count": 5,
     "metadata": {},
     "output_type": "execute_result"
    }
   ],
   "source": [
    "class Tree1:\n",
    "    def __init__(self, kids, next=None):\n",
    "        self.kids= self.val= kids\n",
    "        self.next =next\n",
    "        \n",
    "t=Tree1(Tree1(\"a\", Tree1(\"b\", Tree1(\"c\", Tree1(\"d\")))))\n",
    "t.kids.next.next.val"
   ],
   "metadata": {
    "collapsed": false,
    "ExecuteTime": {
     "end_time": "2024-03-25T11:38:00.364718Z",
     "start_time": "2024-03-25T11:38:00.351389Z"
    }
   },
   "id": "ac30e7007b9fa594",
   "execution_count": 5
  },
  {
   "cell_type": "markdown",
   "source": [
    "## Задание\n",
    "Представьте дерево показанное на рисунке с использованием списка из списков. Выведите на печать корень дерева, а также его левое и правое поддеревья."
   ],
   "metadata": {
    "collapsed": false
   },
   "id": "ca2333829faa7430"
  },
  {
   "cell_type": "code",
   "outputs": [
    {
     "name": "stdout",
     "output_type": "stream",
     "text": [
      "a\n",
      "['b', ['d'], ['e']]\n",
      "['c', ['f']]\n"
     ]
    }
   ],
   "source": [
    "tree = ['a', ['b',['d'], ['e']], ['c', ['f']]]\n",
    "\n",
    "\n",
    "print(tree[0])\n",
    "print(tree[1])\n",
    "print(tree[2])"
   ],
   "metadata": {
    "collapsed": false,
    "ExecuteTime": {
     "end_time": "2024-03-25T11:38:00.378272Z",
     "start_time": "2024-03-25T11:38:00.367809Z"
    }
   },
   "id": "4c65a1fed344f2cf",
   "execution_count": 6
  },
  {
   "cell_type": "markdown",
   "source": [
    "## Задание:\n",
    " Дан класс, описывающий бинарное дерево. \n",
    " Реализуйте в классе функцию для вставки нового элемента в дерево по следующим правилам: \n",
    "* Левое поддерево узла содержит только узлы со значениями меньше, чем значение в узле. \n",
    "* Правое поддерево узла содержит только узлы со значениями меньше, чем значение в узле. \n",
    "* Каждое из левого и правого поддеревьев также должно быть бинарным деревом поиска.\n",
    "* Не должно быть повторяющихся узлов. \n",
    "Метод вставки сравнивает значение узла с родительским узлом и решает куда добавить элемент (в левое или правое поддерево). Перепишите, метод PrintTree для печати полной версии дерева."
   ],
   "metadata": {
    "collapsed": false
   },
   "id": "3e12c5c01fbd9764"
  },
  {
   "cell_type": "code",
   "outputs": [
    {
     "name": "stdout",
     "output_type": "stream",
     "text": [
      "1\n",
      "3\n",
      "4\n",
      "5\n",
      "6\n",
      "7\n",
      "8\n"
     ]
    }
   ],
   "source": [
    "class Tree:\n",
    "    def __init__(self, data):\n",
    "        self.left = None\n",
    "        self.right = None\n",
    "        self.data = data\n",
    "\n",
    "    def insert(self, value):\n",
    "        if value < self.data:\n",
    "            if self.left is None:\n",
    "                self.left = Tree(value)\n",
    "            else:\n",
    "                self.left.insert(value)\n",
    "        elif value > self.data:\n",
    "            if self.right is None:\n",
    "                self.right = Tree(value)\n",
    "            else:\n",
    "                self.right.insert(value)\n",
    "\n",
    "    def print_tree(self):\n",
    "        if self.left:\n",
    "            self.left.print_tree()\n",
    "        print(self.data)\n",
    "        if self.right:\n",
    "            self.right.print_tree()\n",
    "\n",
    "root = Tree(5)\n",
    "root.insert(3)\n",
    "root.insert(7)\n",
    "root.insert(1)\n",
    "root.insert(4)\n",
    "root.insert(6)\n",
    "root.insert(8)\n",
    "\n",
    "root.print_tree()\n"
   ],
   "metadata": {
    "collapsed": false,
    "ExecuteTime": {
     "end_time": "2024-03-25T11:38:00.398075Z",
     "start_time": "2024-03-25T11:38:00.383477Z"
    }
   },
   "id": "28ea7528c36b221f",
   "execution_count": 7
  },
  {
   "cell_type": "markdown",
   "source": [
    "## 1.3.1 Пример\n",
    "Построим дерево решений для задачи классификации, для этого, построим границу решения для каждого класса. В качестве данных будем использовать уже знакомый нам и встроенный в библиотеку sklearn набор данных ирисов Фишера. Импортируем библиотеки, набор данных и посмотрим его характеристики."
   ],
   "metadata": {
    "collapsed": false
   },
   "id": "f1bb8c5d11123610"
  },
  {
   "cell_type": "code",
   "outputs": [
    {
     "data": {
      "text/plain": "     sepal_length  sepal_width  petal_length  petal_width    species\n0             5.1          3.5           1.4          0.2     setosa\n1             4.9          3.0           1.4          0.2     setosa\n2             4.7          3.2           1.3          0.2     setosa\n3             4.6          3.1           1.5          0.2     setosa\n4             5.0          3.6           1.4          0.2     setosa\n..            ...          ...           ...          ...        ...\n145           6.7          3.0           5.2          2.3  virginica\n146           6.3          2.5           5.0          1.9  virginica\n147           6.5          3.0           5.2          2.0  virginica\n148           6.2          3.4           5.4          2.3  virginica\n149           5.9          3.0           5.1          1.8  virginica\n\n[150 rows x 5 columns]",
      "text/html": "<div>\n<style scoped>\n    .dataframe tbody tr th:only-of-type {\n        vertical-align: middle;\n    }\n\n    .dataframe tbody tr th {\n        vertical-align: top;\n    }\n\n    .dataframe thead th {\n        text-align: right;\n    }\n</style>\n<table border=\"1\" class=\"dataframe\">\n  <thead>\n    <tr style=\"text-align: right;\">\n      <th></th>\n      <th>sepal_length</th>\n      <th>sepal_width</th>\n      <th>petal_length</th>\n      <th>petal_width</th>\n      <th>species</th>\n    </tr>\n  </thead>\n  <tbody>\n    <tr>\n      <th>0</th>\n      <td>5.1</td>\n      <td>3.5</td>\n      <td>1.4</td>\n      <td>0.2</td>\n      <td>setosa</td>\n    </tr>\n    <tr>\n      <th>1</th>\n      <td>4.9</td>\n      <td>3.0</td>\n      <td>1.4</td>\n      <td>0.2</td>\n      <td>setosa</td>\n    </tr>\n    <tr>\n      <th>2</th>\n      <td>4.7</td>\n      <td>3.2</td>\n      <td>1.3</td>\n      <td>0.2</td>\n      <td>setosa</td>\n    </tr>\n    <tr>\n      <th>3</th>\n      <td>4.6</td>\n      <td>3.1</td>\n      <td>1.5</td>\n      <td>0.2</td>\n      <td>setosa</td>\n    </tr>\n    <tr>\n      <th>4</th>\n      <td>5.0</td>\n      <td>3.6</td>\n      <td>1.4</td>\n      <td>0.2</td>\n      <td>setosa</td>\n    </tr>\n    <tr>\n      <th>...</th>\n      <td>...</td>\n      <td>...</td>\n      <td>...</td>\n      <td>...</td>\n      <td>...</td>\n    </tr>\n    <tr>\n      <th>145</th>\n      <td>6.7</td>\n      <td>3.0</td>\n      <td>5.2</td>\n      <td>2.3</td>\n      <td>virginica</td>\n    </tr>\n    <tr>\n      <th>146</th>\n      <td>6.3</td>\n      <td>2.5</td>\n      <td>5.0</td>\n      <td>1.9</td>\n      <td>virginica</td>\n    </tr>\n    <tr>\n      <th>147</th>\n      <td>6.5</td>\n      <td>3.0</td>\n      <td>5.2</td>\n      <td>2.0</td>\n      <td>virginica</td>\n    </tr>\n    <tr>\n      <th>148</th>\n      <td>6.2</td>\n      <td>3.4</td>\n      <td>5.4</td>\n      <td>2.3</td>\n      <td>virginica</td>\n    </tr>\n    <tr>\n      <th>149</th>\n      <td>5.9</td>\n      <td>3.0</td>\n      <td>5.1</td>\n      <td>1.8</td>\n      <td>virginica</td>\n    </tr>\n  </tbody>\n</table>\n<p>150 rows × 5 columns</p>\n</div>"
     },
     "execution_count": 8,
     "metadata": {},
     "output_type": "execute_result"
    }
   ],
   "source": [
    "import pandas as pd\n",
    "import numbers as np\n",
    "import seaborn as sns\n",
    "import matplotlib.pyplot as plt\n",
    "\n",
    "dataset = sns.load_dataset('iris')\n",
    "dataset"
   ],
   "metadata": {
    "collapsed": false,
    "ExecuteTime": {
     "end_time": "2024-03-25T11:38:00.483981Z",
     "start_time": "2024-03-25T11:38:00.402843Z"
    }
   },
   "id": "ea0f8adf8cd9df88",
   "execution_count": 8
  },
  {
   "cell_type": "code",
   "outputs": [
    {
     "data": {
      "text/plain": "(150, 5)"
     },
     "execution_count": 9,
     "metadata": {},
     "output_type": "execute_result"
    }
   ],
   "source": [
    "dataset.shape"
   ],
   "metadata": {
    "collapsed": false,
    "ExecuteTime": {
     "end_time": "2024-03-25T11:38:00.500761Z",
     "start_time": "2024-03-25T11:38:00.491024Z"
    }
   },
   "id": "de7a010c617bc669",
   "execution_count": 9
  },
  {
   "cell_type": "code",
   "outputs": [
    {
     "data": {
      "text/plain": "   sepal_length  sepal_width  petal_length  petal_width species\n0           5.1          3.5           1.4          0.2  setosa\n1           4.9          3.0           1.4          0.2  setosa\n2           4.7          3.2           1.3          0.2  setosa\n3           4.6          3.1           1.5          0.2  setosa\n4           5.0          3.6           1.4          0.2  setosa",
      "text/html": "<div>\n<style scoped>\n    .dataframe tbody tr th:only-of-type {\n        vertical-align: middle;\n    }\n\n    .dataframe tbody tr th {\n        vertical-align: top;\n    }\n\n    .dataframe thead th {\n        text-align: right;\n    }\n</style>\n<table border=\"1\" class=\"dataframe\">\n  <thead>\n    <tr style=\"text-align: right;\">\n      <th></th>\n      <th>sepal_length</th>\n      <th>sepal_width</th>\n      <th>petal_length</th>\n      <th>petal_width</th>\n      <th>species</th>\n    </tr>\n  </thead>\n  <tbody>\n    <tr>\n      <th>0</th>\n      <td>5.1</td>\n      <td>3.5</td>\n      <td>1.4</td>\n      <td>0.2</td>\n      <td>setosa</td>\n    </tr>\n    <tr>\n      <th>1</th>\n      <td>4.9</td>\n      <td>3.0</td>\n      <td>1.4</td>\n      <td>0.2</td>\n      <td>setosa</td>\n    </tr>\n    <tr>\n      <th>2</th>\n      <td>4.7</td>\n      <td>3.2</td>\n      <td>1.3</td>\n      <td>0.2</td>\n      <td>setosa</td>\n    </tr>\n    <tr>\n      <th>3</th>\n      <td>4.6</td>\n      <td>3.1</td>\n      <td>1.5</td>\n      <td>0.2</td>\n      <td>setosa</td>\n    </tr>\n    <tr>\n      <th>4</th>\n      <td>5.0</td>\n      <td>3.6</td>\n      <td>1.4</td>\n      <td>0.2</td>\n      <td>setosa</td>\n    </tr>\n  </tbody>\n</table>\n</div>"
     },
     "execution_count": 10,
     "metadata": {},
     "output_type": "execute_result"
    }
   ],
   "source": [
    "dataset.head()"
   ],
   "metadata": {
    "collapsed": false,
    "ExecuteTime": {
     "end_time": "2024-03-25T11:38:00.525487Z",
     "start_time": "2024-03-25T11:38:00.504079Z"
    }
   },
   "id": "a933f7c89d76f705",
   "execution_count": 10
  },
  {
   "cell_type": "code",
   "outputs": [
    {
     "data": {
      "text/plain": "((120, 4), (30, 4), (120,), (30,))"
     },
     "execution_count": 11,
     "metadata": {},
     "output_type": "execute_result"
    }
   ],
   "source": [
    "from sklearn.model_selection import train_test_split\n",
    "\n",
    "X_train, X_test, y_train, y_test =train_test_split(\n",
    "    dataset.iloc[:,:-1],\n",
    "    dataset.iloc[:,-1],\n",
    "    test_size = 0.2\n",
    ")\n",
    "\n",
    "X_train.shape, X_test.shape, y_train.shape, y_test.shape"
   ],
   "metadata": {
    "collapsed": false,
    "ExecuteTime": {
     "end_time": "2024-03-25T11:38:02.897664Z",
     "start_time": "2024-03-25T11:38:00.528909Z"
    }
   },
   "id": "a749905269d0852b",
   "execution_count": 11
  },
  {
   "cell_type": "code",
   "outputs": [
    {
     "data": {
      "text/plain": "     sepal_length  sepal_width  petal_length  petal_width\n30            4.8          3.1           1.6          0.2\n49            5.0          3.3           1.4          0.2\n143           6.8          3.2           5.9          2.3\n62            6.0          2.2           4.0          1.0\n17            5.1          3.5           1.4          0.3",
      "text/html": "<div>\n<style scoped>\n    .dataframe tbody tr th:only-of-type {\n        vertical-align: middle;\n    }\n\n    .dataframe tbody tr th {\n        vertical-align: top;\n    }\n\n    .dataframe thead th {\n        text-align: right;\n    }\n</style>\n<table border=\"1\" class=\"dataframe\">\n  <thead>\n    <tr style=\"text-align: right;\">\n      <th></th>\n      <th>sepal_length</th>\n      <th>sepal_width</th>\n      <th>petal_length</th>\n      <th>petal_width</th>\n    </tr>\n  </thead>\n  <tbody>\n    <tr>\n      <th>30</th>\n      <td>4.8</td>\n      <td>3.1</td>\n      <td>1.6</td>\n      <td>0.2</td>\n    </tr>\n    <tr>\n      <th>49</th>\n      <td>5.0</td>\n      <td>3.3</td>\n      <td>1.4</td>\n      <td>0.2</td>\n    </tr>\n    <tr>\n      <th>143</th>\n      <td>6.8</td>\n      <td>3.2</td>\n      <td>5.9</td>\n      <td>2.3</td>\n    </tr>\n    <tr>\n      <th>62</th>\n      <td>6.0</td>\n      <td>2.2</td>\n      <td>4.0</td>\n      <td>1.0</td>\n    </tr>\n    <tr>\n      <th>17</th>\n      <td>5.1</td>\n      <td>3.5</td>\n      <td>1.4</td>\n      <td>0.3</td>\n    </tr>\n  </tbody>\n</table>\n</div>"
     },
     "execution_count": 12,
     "metadata": {},
     "output_type": "execute_result"
    }
   ],
   "source": [
    "X_train.head()"
   ],
   "metadata": {
    "collapsed": false,
    "ExecuteTime": {
     "end_time": "2024-03-25T11:38:02.921400Z",
     "start_time": "2024-03-25T11:38:02.903863Z"
    }
   },
   "id": "27609d9bba7276f",
   "execution_count": 12
  },
  {
   "cell_type": "code",
   "outputs": [
    {
     "data": {
      "text/plain": "30         setosa\n49         setosa\n143     virginica\n62     versicolor\n17         setosa\nName: species, dtype: object"
     },
     "execution_count": 13,
     "metadata": {},
     "output_type": "execute_result"
    }
   ],
   "source": [
    "y_train.head()"
   ],
   "metadata": {
    "collapsed": false,
    "ExecuteTime": {
     "end_time": "2024-03-25T11:38:02.937384Z",
     "start_time": "2024-03-25T11:38:02.925734Z"
    }
   },
   "id": "47ae745ee0f677ce",
   "execution_count": 13
  },
  {
   "cell_type": "code",
   "outputs": [
    {
     "data": {
      "text/plain": "[Text(0.3181818181818182, 0.9166666666666666, 'x[2] <= 2.45\\ngini = 0.665\\nsamples = 120\\nvalue = [43, 40, 37]'),\n Text(0.22727272727272727, 0.75, 'gini = 0.0\\nsamples = 43\\nvalue = [43, 0, 0]'),\n Text(0.4090909090909091, 0.75, 'x[3] <= 1.65\\ngini = 0.499\\nsamples = 77\\nvalue = [0.0, 40.0, 37.0]'),\n Text(0.18181818181818182, 0.5833333333333334, 'x[2] <= 5.25\\ngini = 0.05\\nsamples = 39\\nvalue = [0, 38, 1]'),\n Text(0.09090909090909091, 0.4166666666666667, 'gini = 0.0\\nsamples = 38\\nvalue = [0, 38, 0]'),\n Text(0.2727272727272727, 0.4166666666666667, 'gini = 0.0\\nsamples = 1\\nvalue = [0, 0, 1]'),\n Text(0.6363636363636364, 0.5833333333333334, 'x[3] <= 1.75\\ngini = 0.1\\nsamples = 38\\nvalue = [0, 2, 36]'),\n Text(0.45454545454545453, 0.4166666666666667, 'x[0] <= 5.8\\ngini = 0.5\\nsamples = 2\\nvalue = [0, 1, 1]'),\n Text(0.36363636363636365, 0.25, 'gini = 0.0\\nsamples = 1\\nvalue = [0, 0, 1]'),\n Text(0.5454545454545454, 0.25, 'gini = 0.0\\nsamples = 1\\nvalue = [0, 1, 0]'),\n Text(0.8181818181818182, 0.4166666666666667, 'x[2] <= 4.85\\ngini = 0.054\\nsamples = 36\\nvalue = [0, 1, 35]'),\n Text(0.7272727272727273, 0.25, 'x[0] <= 5.95\\ngini = 0.444\\nsamples = 3\\nvalue = [0, 1, 2]'),\n Text(0.6363636363636364, 0.08333333333333333, 'gini = 0.0\\nsamples = 1\\nvalue = [0, 1, 0]'),\n Text(0.8181818181818182, 0.08333333333333333, 'gini = 0.0\\nsamples = 2\\nvalue = [0, 0, 2]'),\n Text(0.9090909090909091, 0.25, 'gini = 0.0\\nsamples = 33\\nvalue = [0, 0, 33]')]"
     },
     "execution_count": 14,
     "metadata": {},
     "output_type": "execute_result"
    },
    {
     "data": {
      "text/plain": "<Figure size 640x480 with 1 Axes>",
      "image/png": "[encoded data removed]"
     },
     "metadata": {},
     "output_type": "display_data"
    }
   ],
   "source": [
    "from sklearn.tree import DecisionTreeClassifier\n",
    "classifier = DecisionTreeClassifier()\n",
    "classifier.fit(X_train, y_train)\n",
    "\n",
    "from sklearn import tree\n",
    "\n",
    "tree.plot_tree(classifier)"
   ],
   "metadata": {
    "collapsed": false,
    "ExecuteTime": {
     "end_time": "2024-03-25T11:38:07.400451Z",
     "start_time": "2024-03-25T11:38:02.941913Z"
    }
   },
   "id": "36d6cb6f800b0540",
   "execution_count": 14
  },
  {
   "cell_type": "code",
   "outputs": [
    {
     "data": {
      "text/plain": "array(['versicolor', 'setosa', 'setosa', 'versicolor', 'virginica',\n       'versicolor', 'versicolor', 'versicolor', 'virginica', 'setosa',\n       'virginica', 'virginica', 'versicolor', 'setosa', 'versicolor',\n       'versicolor', 'versicolor', 'setosa', 'setosa', 'virginica',\n       'virginica', 'versicolor', 'versicolor', 'setosa', 'virginica',\n       'versicolor', 'virginica', 'virginica', 'virginica', 'virginica'],\n      dtype=object)"
     },
     "execution_count": 15,
     "metadata": {},
     "output_type": "execute_result"
    }
   ],
   "source": [
    "y_pred = classifier.predict(X_test)\n",
    "y_pred\n"
   ],
   "metadata": {
    "collapsed": false,
    "ExecuteTime": {
     "end_time": "2024-03-25T11:38:07.417303Z",
     "start_time": "2024-03-25T11:38:07.403754Z"
    }
   },
   "id": "48d1e2559da67a85",
   "execution_count": 15
  },
  {
   "cell_type": "code",
   "outputs": [
    {
     "name": "stdout",
     "output_type": "stream",
     "text": [
      "[[ 7  0  0]\n",
      " [ 0 10  0]\n",
      " [ 0  2 11]]\n",
      "              precision    recall  f1-score   support\n",
      "\n",
      "      setosa       1.00      1.00      1.00         7\n",
      "  versicolor       0.83      1.00      0.91        10\n",
      "   virginica       1.00      0.85      0.92        13\n",
      "\n",
      "    accuracy                           0.93        30\n",
      "   macro avg       0.94      0.95      0.94        30\n",
      "weighted avg       0.94      0.93      0.93        30\n"
     ]
    }
   ],
   "source": [
    "from sklearn.metrics import classification_report, confusion_matrix\n",
    "print(confusion_matrix(y_test,y_pred))\n",
    "print(classification_report(y_test,y_pred))"
   ],
   "metadata": {
    "collapsed": false,
    "ExecuteTime": {
     "end_time": "2024-03-25T11:38:07.450447Z",
     "start_time": "2024-03-25T11:38:07.421349Z"
    }
   },
   "id": "8c0d4e3f4378ce87",
   "execution_count": 16
  },
  {
   "cell_type": "markdown",
   "source": [
    "## Задание\n",
    "Постройте классификатор на основе дерева принятия решений следующего датасета:\n",
    "X= np.array([[-1, -1], [-2, -1], [-3, -2], [1, 1], [2, 1], [3, 2]]) target = [0, 0, 0, 1, 1, 1]"
   ],
   "metadata": {
    "collapsed": false
   },
   "id": "14e59dbb65c87c89"
  },
  {
   "cell_type": "code",
   "outputs": [
    {
     "name": "stdout",
     "output_type": "stream",
     "text": [
      "   feature1  feature2  target\n",
      "0        -1        -1       0\n",
      "1        -2        -1       0\n",
      "2        -3        -2       0\n",
      "3         1         1       1\n",
      "4         2         1       1\n",
      "5         3         2       1\n"
     ]
    },
    {
     "data": {
      "text/plain": "((4, 2), (2, 2), (4,), (2,))"
     },
     "execution_count": 17,
     "metadata": {},
     "output_type": "execute_result"
    }
   ],
   "source": [
    "import numpy as np\n",
    "\n",
    "X= np.array([[-1, -1], [-2, -1], [-3, -2], [1, 1], [2, 1], [3, 2]])\n",
    "target = [0, 0, 0, 1, 1, 1]\n",
    "\n",
    "df = pd.DataFrame(data=X, columns=['feature1', 'feature2'])\n",
    "df['target'] = target\n",
    "\n",
    "print(df)\n",
    "X_train, X_test,y_train, y_test = train_test_split(\n",
    "    df.iloc[:,:-1],\n",
    "    df.iloc[:,-1],\n",
    "    test_size=0.2\n",
    ")\n",
    "X_train.shape, X_test.shape, y_train.shape, y_test.shape"
   ],
   "metadata": {
    "collapsed": false,
    "ExecuteTime": {
     "end_time": "2024-03-25T11:38:07.480462Z",
     "start_time": "2024-03-25T11:38:07.455358Z"
    }
   },
   "id": "9ad809ef493c9cbe",
   "execution_count": 17
  },
  {
   "cell_type": "code",
   "outputs": [
    {
     "data": {
      "text/plain": "array([1, 0], dtype=int64)"
     },
     "execution_count": 18,
     "metadata": {},
     "output_type": "execute_result"
    },
    {
     "data": {
      "text/plain": "<Figure size 640x480 with 1 Axes>",
      "image/png": "[encoded data removed]"
     },
     "metadata": {},
     "output_type": "display_data"
    }
   ],
   "source": [
    "classifier = DecisionTreeClassifier()\n",
    "classifier.fit(X_train, y_train)\n",
    "\n",
    "tree.plot_tree(classifier)\n",
    "\n",
    "y_pred=classifier.predict(X_test)\n",
    "y_pred\n"
   ],
   "metadata": {
    "collapsed": false,
    "ExecuteTime": {
     "end_time": "2024-03-25T11:38:07.817293Z",
     "start_time": "2024-03-25T11:38:07.485021Z"
    }
   },
   "id": "71cb2d0e7aa4a370",
   "execution_count": 18
  },
  {
   "cell_type": "code",
   "outputs": [
    {
     "name": "stdout",
     "output_type": "stream",
     "text": [
      "[[1 0]\n",
      " [0 1]]\n",
      "              precision    recall  f1-score   support\n",
      "\n",
      "           0       1.00      1.00      1.00         1\n",
      "           1       1.00      1.00      1.00         1\n",
      "\n",
      "    accuracy                           1.00         2\n",
      "   macro avg       1.00      1.00      1.00         2\n",
      "weighted avg       1.00      1.00      1.00         2\n"
     ]
    }
   ],
   "source": [
    "print(confusion_matrix(y_test, y_pred) )\n",
    "print(classification_report(y_test, y_pred))"
   ],
   "metadata": {
    "collapsed": false,
    "ExecuteTime": {
     "end_time": "2024-03-25T11:38:07.840810Z",
     "start_time": "2024-03-25T11:38:07.819308Z"
    }
   },
   "id": "105271865498391b",
   "execution_count": 19
  },
  {
   "cell_type": "markdown",
   "source": [
    "## Задание. Постройте модель регрессии для данных из предыдущей рабочей тетради.Для примера можно взять потребления газа (в миллионах галлонов) в 48 штатах США или набор данных о качестве красного вина:\n",
    "https://raw.githubusercontent.com/likarajo/petrol_consumption/master/data/petrol_consumption.csv\n",
    "https://raw.githubusercontent.com/aniruddhachoudhury/Red-Wine-Quality/master/winequality-red.csv\n",
    "Постройте прогноз. Оцените точность модели."
   ],
   "metadata": {
    "collapsed": false
   },
   "id": "184c7b94bedb3be9"
  },
  {
   "cell_type": "code",
   "outputs": [
    {
     "data": {
      "text/plain": "   Petrol_tax  Average_income  Paved_Highways  Population_Driver_licence(%)  \\\n0         9.0            3571            1976                         0.525   \n1         9.0            4092            1250                         0.572   \n2         9.0            3865            1586                         0.580   \n3         7.5            4870            2351                         0.529   \n4         8.0            4399             431                         0.544   \n\n   Petrol_Consumption  \n0                 541  \n1                 524  \n2                 561  \n3                 414  \n4                 410  ",
      "text/html": "<div>\n<style scoped>\n    .dataframe tbody tr th:only-of-type {\n        vertical-align: middle;\n    }\n\n    .dataframe tbody tr th {\n        vertical-align: top;\n    }\n\n    .dataframe thead th {\n        text-align: right;\n    }\n</style>\n<table border=\"1\" class=\"dataframe\">\n  <thead>\n    <tr style=\"text-align: right;\">\n      <th></th>\n      <th>Petrol_tax</th>\n      <th>Average_income</th>\n      <th>Paved_Highways</th>\n      <th>Population_Driver_licence(%)</th>\n      <th>Petrol_Consumption</th>\n    </tr>\n  </thead>\n  <tbody>\n    <tr>\n      <th>0</th>\n      <td>9.0</td>\n      <td>3571</td>\n      <td>1976</td>\n      <td>0.525</td>\n      <td>541</td>\n    </tr>\n    <tr>\n      <th>1</th>\n      <td>9.0</td>\n      <td>4092</td>\n      <td>1250</td>\n      <td>0.572</td>\n      <td>524</td>\n    </tr>\n    <tr>\n      <th>2</th>\n      <td>9.0</td>\n      <td>3865</td>\n      <td>1586</td>\n      <td>0.580</td>\n      <td>561</td>\n    </tr>\n    <tr>\n      <th>3</th>\n      <td>7.5</td>\n      <td>4870</td>\n      <td>2351</td>\n      <td>0.529</td>\n      <td>414</td>\n    </tr>\n    <tr>\n      <th>4</th>\n      <td>8.0</td>\n      <td>4399</td>\n      <td>431</td>\n      <td>0.544</td>\n      <td>410</td>\n    </tr>\n  </tbody>\n</table>\n</div>"
     },
     "execution_count": 20,
     "metadata": {},
     "output_type": "execute_result"
    }
   ],
   "source": [
    "url = \"https://raw.githubusercontent.com/likarajo/petrol_consumption/master/data/petrol_consumption.csv\"\n",
    "\n",
    "dataframe=pd.read_csv(url)\n",
    "\n",
    "dataframe.head()"
   ],
   "metadata": {
    "collapsed": false,
    "ExecuteTime": {
     "end_time": "2024-03-25T11:38:08.413747Z",
     "start_time": "2024-03-25T11:38:07.843189Z"
    }
   },
   "id": "b967a0081e6d358",
   "execution_count": 20
  },
  {
   "cell_type": "code",
   "outputs": [
    {
     "name": "stdout",
     "output_type": "stream",
     "text": [
      "(48, 5)\n"
     ]
    },
    {
     "data": {
      "text/plain": "       Petrol_tax  Average_income  Paved_Highways  \\\ncount   48.000000       48.000000       48.000000   \nmean     7.668333     4241.833333     5565.416667   \nstd      0.950770      573.623768     3491.507166   \nmin      5.000000     3063.000000      431.000000   \n25%      7.000000     3739.000000     3110.250000   \n50%      7.500000     4298.000000     4735.500000   \n75%      8.125000     4578.750000     7156.000000   \nmax     10.000000     5342.000000    17782.000000   \n\n       Population_Driver_licence(%)  Petrol_Consumption  \ncount                     48.000000           48.000000  \nmean                       0.570333          576.770833  \nstd                        0.055470          111.885816  \nmin                        0.451000          344.000000  \n25%                        0.529750          509.500000  \n50%                        0.564500          568.500000  \n75%                        0.595250          632.750000  \nmax                        0.724000          968.000000  ",
      "text/html": "<div>\n<style scoped>\n    .dataframe tbody tr th:only-of-type {\n        vertical-align: middle;\n    }\n\n    .dataframe tbody tr th {\n        vertical-align: top;\n    }\n\n    .dataframe thead th {\n        text-align: right;\n    }\n</style>\n<table border=\"1\" class=\"dataframe\">\n  <thead>\n    <tr style=\"text-align: right;\">\n      <th></th>\n      <th>Petrol_tax</th>\n      <th>Average_income</th>\n      <th>Paved_Highways</th>\n      <th>Population_Driver_licence(%)</th>\n      <th>Petrol_Consumption</th>\n    </tr>\n  </thead>\n  <tbody>\n    <tr>\n      <th>count</th>\n      <td>48.000000</td>\n      <td>48.000000</td>\n      <td>48.000000</td>\n      <td>48.000000</td>\n      <td>48.000000</td>\n    </tr>\n    <tr>\n      <th>mean</th>\n      <td>7.668333</td>\n      <td>4241.833333</td>\n      <td>5565.416667</td>\n      <td>0.570333</td>\n      <td>576.770833</td>\n    </tr>\n    <tr>\n      <th>std</th>\n      <td>0.950770</td>\n      <td>573.623768</td>\n      <td>3491.507166</td>\n      <td>0.055470</td>\n      <td>111.885816</td>\n    </tr>\n    <tr>\n      <th>min</th>\n      <td>5.000000</td>\n      <td>3063.000000</td>\n      <td>431.000000</td>\n      <td>0.451000</td>\n      <td>344.000000</td>\n    </tr>\n    <tr>\n      <th>25%</th>\n      <td>7.000000</td>\n      <td>3739.000000</td>\n      <td>3110.250000</td>\n      <td>0.529750</td>\n      <td>509.500000</td>\n    </tr>\n    <tr>\n      <th>50%</th>\n      <td>7.500000</td>\n      <td>4298.000000</td>\n      <td>4735.500000</td>\n      <td>0.564500</td>\n      <td>568.500000</td>\n    </tr>\n    <tr>\n      <th>75%</th>\n      <td>8.125000</td>\n      <td>4578.750000</td>\n      <td>7156.000000</td>\n      <td>0.595250</td>\n      <td>632.750000</td>\n    </tr>\n    <tr>\n      <th>max</th>\n      <td>10.000000</td>\n      <td>5342.000000</td>\n      <td>17782.000000</td>\n      <td>0.724000</td>\n      <td>968.000000</td>\n    </tr>\n  </tbody>\n</table>\n</div>"
     },
     "execution_count": 21,
     "metadata": {},
     "output_type": "execute_result"
    }
   ],
   "source": [
    "print(dataframe.shape)\n",
    "dataframe.describe()"
   ],
   "metadata": {
    "collapsed": false,
    "ExecuteTime": {
     "end_time": "2024-03-25T11:38:08.449885Z",
     "start_time": "2024-03-25T11:38:08.417421Z"
    }
   },
   "id": "b88ad4ae13db449e",
   "execution_count": 21
  },
  {
   "cell_type": "code",
   "outputs": [
    {
     "name": "stdout",
     "output_type": "stream",
     "text": [
      "[[9.0000e+00 3.5710e+03 1.9760e+03 5.2500e-01]\n",
      " [9.0000e+00 4.0920e+03 1.2500e+03 5.7200e-01]\n",
      " [9.0000e+00 3.8650e+03 1.5860e+03 5.8000e-01]\n",
      " [7.5000e+00 4.8700e+03 2.3510e+03 5.2900e-01]\n",
      " [8.0000e+00 4.3990e+03 4.3100e+02 5.4400e-01]\n",
      " [1.0000e+01 5.3420e+03 1.3330e+03 5.7100e-01]\n",
      " [8.0000e+00 5.3190e+03 1.1868e+04 4.5100e-01]\n",
      " [8.0000e+00 5.1260e+03 2.1380e+03 5.5300e-01]\n",
      " [8.0000e+00 4.4470e+03 8.5770e+03 5.2900e-01]\n",
      " [7.0000e+00 4.5120e+03 8.5070e+03 5.5200e-01]\n",
      " [8.0000e+00 4.3910e+03 5.9390e+03 5.3000e-01]\n",
      " [7.5000e+00 5.1260e+03 1.4186e+04 5.2500e-01]\n",
      " [7.0000e+00 4.8170e+03 6.9300e+03 5.7400e-01]\n",
      " [7.0000e+00 4.2070e+03 6.5800e+03 5.4500e-01]\n",
      " [7.0000e+00 4.3320e+03 8.1590e+03 6.0800e-01]\n",
      " [7.0000e+00 4.3180e+03 1.0340e+04 5.8600e-01]\n",
      " [7.0000e+00 4.2060e+03 8.5080e+03 5.7200e-01]\n",
      " [7.0000e+00 3.7180e+03 4.7250e+03 5.4000e-01]\n",
      " [7.0000e+00 4.7160e+03 5.9150e+03 7.2400e-01]\n",
      " [8.5000e+00 4.3410e+03 6.0100e+03 6.7700e-01]\n",
      " [7.0000e+00 4.5930e+03 7.8340e+03 6.6300e-01]\n",
      " [8.0000e+00 4.9830e+03 6.0200e+02 6.0200e-01]\n",
      " [9.0000e+00 4.8970e+03 2.4490e+03 5.1100e-01]\n",
      " [9.0000e+00 4.2580e+03 4.6860e+03 5.1700e-01]\n",
      " [8.5000e+00 4.5740e+03 2.6190e+03 5.5100e-01]\n",
      " [9.0000e+00 3.7210e+03 4.7460e+03 5.4400e-01]\n",
      " [8.0000e+00 3.4480e+03 5.3990e+03 5.4800e-01]\n",
      " [7.5000e+00 3.8460e+03 9.0610e+03 5.7900e-01]\n",
      " [8.0000e+00 4.1880e+03 5.9750e+03 5.6300e-01]\n",
      " [9.0000e+00 3.6010e+03 4.6500e+03 4.9300e-01]\n",
      " [7.0000e+00 3.6400e+03 6.9050e+03 5.1800e-01]\n",
      " [7.0000e+00 3.3330e+03 6.5940e+03 5.1300e-01]\n",
      " [8.0000e+00 3.0630e+03 6.5240e+03 5.7800e-01]\n",
      " [7.5000e+00 3.3570e+03 4.1210e+03 5.4700e-01]\n",
      " [8.0000e+00 3.5280e+03 3.4950e+03 4.8700e-01]\n",
      " [6.5800e+00 3.8020e+03 7.8340e+03 6.2900e-01]\n",
      " [5.0000e+00 4.0450e+03 1.7782e+04 5.6600e-01]\n",
      " [7.0000e+00 3.8970e+03 6.3850e+03 5.8600e-01]\n",
      " [8.5000e+00 3.6350e+03 3.2740e+03 6.6300e-01]\n",
      " [7.0000e+00 4.3450e+03 3.9050e+03 6.7200e-01]\n",
      " [7.0000e+00 4.4490e+03 4.6390e+03 6.2600e-01]\n",
      " [7.0000e+00 3.6560e+03 3.9850e+03 5.6300e-01]\n",
      " [7.0000e+00 4.3000e+03 3.6350e+03 6.0300e-01]\n",
      " [7.0000e+00 3.7450e+03 2.6110e+03 5.0800e-01]\n",
      " [6.0000e+00 5.2150e+03 2.3020e+03 6.7200e-01]\n",
      " [9.0000e+00 4.4760e+03 3.9420e+03 5.7100e-01]\n",
      " [7.0000e+00 4.2960e+03 4.0830e+03 6.2300e-01]\n",
      " [7.0000e+00 5.0020e+03 9.7940e+03 5.9300e-01]]\n",
      "[3571 4092 3865 4870 4399 5342 5319 5126 4447 4512 4391 5126 4817 4207\n",
      " 4332 4318 4206 3718 4716 4341 4593 4983 4897 4258 4574 3721 3448 3846\n",
      " 4188 3601 3640 3333 3063 3357 3528 3802 4045 3897 3635 4345 4449 3656\n",
      " 4300 3745 5215 4476 4296 5002]\n"
     ]
    }
   ],
   "source": [
    "X_task=dataframe.iloc[:,:-1].values\n",
    "y_task=dataframe.iloc[:,1].values\n",
    "\n",
    "print(X_task)\n",
    "print(y_task)"
   ],
   "metadata": {
    "collapsed": false,
    "ExecuteTime": {
     "end_time": "2024-03-25T11:38:08.467956Z",
     "start_time": "2024-03-25T11:38:08.455310Z"
    }
   },
   "id": "cfa11a28f1ddbdcd",
   "execution_count": 22
  },
  {
   "cell_type": "code",
   "outputs": [],
   "source": [
    "X_train, X_test, y_train, y_test=train_test_split(X_task, y_task, test_size=0.2, random_state=0)"
   ],
   "metadata": {
    "collapsed": false,
    "ExecuteTime": {
     "end_time": "2024-03-25T11:38:08.480751Z",
     "start_time": "2024-03-25T11:38:08.471545Z"
    }
   },
   "id": "a844180bc727846",
   "execution_count": 23
  },
  {
   "cell_type": "code",
   "outputs": [
    {
     "data": {
      "text/plain": "[Text(0.4877232142857143, 0.9375, 'x[1] <= 4396.0\\nsquared_error = 288278.46\\nsamples = 38\\nvalue = 4317.526'),\n Text(0.22098214285714285, 0.8125, 'x[1] <= 3955.0\\nsquared_error = 103912.083\\nsamples = 23\\nvalue = 3964.217'),\n Text(0.08482142857142858, 0.6875, 'x[1] <= 3464.0\\nsquared_error = 28944.0\\nsamples = 11\\nvalue = 3659.0'),\n Text(0.03571428571428571, 0.5625, 'x[2] <= 5357.5\\nsquared_error = 144.0\\nsamples = 2\\nvalue = 3345.0'),\n Text(0.017857142857142856, 0.4375, 'squared_error = 0.0\\nsamples = 1\\nvalue = 3357.0'),\n Text(0.05357142857142857, 0.4375, 'squared_error = 0.0\\nsamples = 1\\nvalue = 3333.0'),\n Text(0.13392857142857142, 0.5625, 'x[1] <= 3773.5\\nsquared_error = 8564.84\\nsamples = 9\\nvalue = 3728.778'),\n Text(0.08928571428571429, 0.4375, 'x[1] <= 3687.0\\nsquared_error = 3606.556\\nsamples = 6\\nvalue = 3674.333'),\n Text(0.05357142857142857, 0.3125, 'x[2] <= 2625.0\\nsquared_error = 1306.889\\nsamples = 3\\nvalue = 3620.667'),\n Text(0.03571428571428571, 0.1875, 'squared_error = 0.0\\nsamples = 1\\nvalue = 3571.0'),\n Text(0.07142857142857142, 0.1875, 'x[0] <= 7.75\\nsquared_error = 110.25\\nsamples = 2\\nvalue = 3645.5'),\n Text(0.05357142857142857, 0.0625, 'squared_error = 0.0\\nsamples = 1\\nvalue = 3656.0'),\n Text(0.08928571428571429, 0.0625, 'squared_error = 0.0\\nsamples = 1\\nvalue = 3635.0'),\n Text(0.125, 0.3125, 'x[3] <= 0.524\\nsquared_error = 146.0\\nsamples = 3\\nvalue = 3728.0'),\n Text(0.10714285714285714, 0.1875, 'squared_error = 0.0\\nsamples = 1\\nvalue = 3745.0'),\n Text(0.14285714285714285, 0.1875, 'x[3] <= 0.542\\nsquared_error = 2.25\\nsamples = 2\\nvalue = 3719.5'),\n Text(0.125, 0.0625, 'squared_error = 0.0\\nsamples = 1\\nvalue = 3718.0'),\n Text(0.16071428571428573, 0.0625, 'squared_error = 0.0\\nsamples = 1\\nvalue = 3721.0'),\n Text(0.17857142857142858, 0.4375, 'x[0] <= 7.04\\nsquared_error = 696.222\\nsamples = 3\\nvalue = 3837.667'),\n Text(0.16071428571428573, 0.3125, 'squared_error = 0.0\\nsamples = 1\\nvalue = 3802.0'),\n Text(0.19642857142857142, 0.3125, 'x[1] <= 3855.5\\nsquared_error = 90.25\\nsamples = 2\\nvalue = 3855.5'),\n Text(0.17857142857142858, 0.1875, 'squared_error = 0.0\\nsamples = 1\\nvalue = 3846.0'),\n Text(0.21428571428571427, 0.1875, 'squared_error = 0.0\\nsamples = 1\\nvalue = 3865.0'),\n Text(0.35714285714285715, 0.6875, 'x[1] <= 4232.5\\nsquared_error = 8960.0\\nsamples = 12\\nvalue = 4244.0'),\n Text(0.2857142857142857, 0.5625, 'x[1] <= 4140.0\\nsquared_error = 4437.84\\nsamples = 5\\nvalue = 4147.6'),\n Text(0.25, 0.4375, 'x[1] <= 4068.5\\nsquared_error = 552.25\\nsamples = 2\\nvalue = 4068.5'),\n Text(0.23214285714285715, 0.3125, 'squared_error = 0.0\\nsamples = 1\\nvalue = 4045.0'),\n Text(0.26785714285714285, 0.3125, 'squared_error = 0.0\\nsamples = 1\\nvalue = 4092.0'),\n Text(0.32142857142857145, 0.4375, 'x[1] <= 4197.0\\nsquared_error = 76.222\\nsamples = 3\\nvalue = 4200.333'),\n Text(0.30357142857142855, 0.3125, 'squared_error = 0.0\\nsamples = 1\\nvalue = 4188.0'),\n Text(0.3392857142857143, 0.3125, 'x[2] <= 7544.0\\nsquared_error = 0.25\\nsamples = 2\\nvalue = 4206.5'),\n Text(0.32142857142857145, 0.1875, 'squared_error = 0.0\\nsamples = 1\\nvalue = 4207.0'),\n Text(0.35714285714285715, 0.1875, 'squared_error = 0.0\\nsamples = 1\\nvalue = 4206.0'),\n Text(0.42857142857142855, 0.5625, 'x[1] <= 4309.0\\nsquared_error = 810.98\\nsamples = 7\\nvalue = 4312.857'),\n Text(0.39285714285714285, 0.4375, 'x[1] <= 4277.0\\nsquared_error = 358.222\\nsamples = 3\\nvalue = 4284.667'),\n Text(0.375, 0.3125, 'squared_error = 0.0\\nsamples = 1\\nvalue = 4258.0'),\n Text(0.4107142857142857, 0.3125, 'x[2] <= 3859.0\\nsquared_error = 4.0\\nsamples = 2\\nvalue = 4298.0'),\n Text(0.39285714285714285, 0.1875, 'squared_error = 0.0\\nsamples = 1\\nvalue = 4300.0'),\n Text(0.42857142857142855, 0.1875, 'squared_error = 0.0\\nsamples = 1\\nvalue = 4296.0'),\n Text(0.4642857142857143, 0.4375, 'x[1] <= 4325.0\\nsquared_error = 107.5\\nsamples = 4\\nvalue = 4334.0'),\n Text(0.44642857142857145, 0.3125, 'squared_error = 0.0\\nsamples = 1\\nvalue = 4318.0'),\n Text(0.48214285714285715, 0.3125, 'x[3] <= 0.64\\nsquared_error = 29.556\\nsamples = 3\\nvalue = 4339.333'),\n Text(0.4642857142857143, 0.1875, 'squared_error = 0.0\\nsamples = 1\\nvalue = 4332.0'),\n Text(0.5, 0.1875, 'x[1] <= 4343.0\\nsquared_error = 4.0\\nsamples = 2\\nvalue = 4343.0'),\n Text(0.48214285714285715, 0.0625, 'squared_error = 0.0\\nsamples = 1\\nvalue = 4341.0'),\n Text(0.5178571428571429, 0.0625, 'squared_error = 0.0\\nsamples = 1\\nvalue = 4345.0'),\n Text(0.7544642857142857, 0.8125, 'x[1] <= 4843.5\\nsquared_error = 86089.262\\nsamples = 15\\nvalue = 4859.267'),\n Text(0.6517857142857143, 0.6875, 'x[1] <= 4654.5\\nsquared_error = 15313.633\\nsamples = 7\\nvalue = 4590.714'),\n Text(0.6071428571428571, 0.5625, 'x[1] <= 4543.0\\nsquared_error = 3114.64\\nsamples = 5\\nvalue = 4520.4'),\n Text(0.5714285714285714, 0.4375, 'x[1] <= 4494.0\\nsquared_error = 706.889\\nsamples = 3\\nvalue = 4478.333'),\n Text(0.5535714285714286, 0.3125, 'x[2] <= 6259.5\\nsquared_error = 210.25\\nsamples = 2\\nvalue = 4461.5'),\n Text(0.5357142857142857, 0.1875, 'squared_error = 0.0\\nsamples = 1\\nvalue = 4476.0'),\n Text(0.5714285714285714, 0.1875, 'squared_error = 0.0\\nsamples = 1\\nvalue = 4447.0'),\n Text(0.5892857142857143, 0.3125, 'squared_error = 0.0\\nsamples = 1\\nvalue = 4512.0'),\n Text(0.6428571428571429, 0.4375, 'x[1] <= 4583.5\\nsquared_error = 90.25\\nsamples = 2\\nvalue = 4583.5'),\n Text(0.625, 0.3125, 'squared_error = 0.0\\nsamples = 1\\nvalue = 4574.0'),\n Text(0.6607142857142857, 0.3125, 'squared_error = 0.0\\nsamples = 1\\nvalue = 4593.0'),\n Text(0.6964285714285714, 0.5625, 'x[1] <= 4766.5\\nsquared_error = 2550.25\\nsamples = 2\\nvalue = 4766.5'),\n Text(0.6785714285714286, 0.4375, 'squared_error = 0.0\\nsamples = 1\\nvalue = 4716.0'),\n Text(0.7142857142857143, 0.4375, 'squared_error = 0.0\\nsamples = 1\\nvalue = 4817.0'),\n Text(0.8571428571428571, 0.6875, 'x[1] <= 5064.0\\nsquared_error = 29695.438\\nsamples = 8\\nvalue = 5094.25'),\n Text(0.7857142857142857, 0.5625, 'x[3] <= 0.561\\nsquared_error = 3106.5\\nsamples = 4\\nvalue = 4938.0'),\n Text(0.75, 0.4375, 'x[1] <= 4883.5\\nsquared_error = 182.25\\nsamples = 2\\nvalue = 4883.5'),\n Text(0.7321428571428571, 0.3125, 'squared_error = 0.0\\nsamples = 1\\nvalue = 4870.0'),\n Text(0.7678571428571429, 0.3125, 'squared_error = 0.0\\nsamples = 1\\nvalue = 4897.0'),\n Text(0.8214285714285714, 0.4375, 'x[0] <= 7.5\\nsquared_error = 90.25\\nsamples = 2\\nvalue = 4992.5'),\n Text(0.8035714285714286, 0.3125, 'squared_error = 0.0\\nsamples = 1\\nvalue = 5002.0'),\n Text(0.8392857142857143, 0.3125, 'squared_error = 0.0\\nsamples = 1\\nvalue = 4983.0'),\n Text(0.9285714285714286, 0.5625, 'x[0] <= 7.75\\nsquared_error = 7456.25\\nsamples = 4\\nvalue = 5250.5'),\n Text(0.8928571428571429, 0.4375, 'x[1] <= 5170.5\\nsquared_error = 1980.25\\nsamples = 2\\nvalue = 5170.5'),\n Text(0.875, 0.3125, 'squared_error = 0.0\\nsamples = 1\\nvalue = 5126.0'),\n Text(0.9107142857142857, 0.3125, 'squared_error = 0.0\\nsamples = 1\\nvalue = 5215.0'),\n Text(0.9642857142857143, 0.4375, 'x[1] <= 5330.5\\nsquared_error = 132.25\\nsamples = 2\\nvalue = 5330.5'),\n Text(0.9464285714285714, 0.3125, 'squared_error = 0.0\\nsamples = 1\\nvalue = 5319.0'),\n Text(0.9821428571428571, 0.3125, 'squared_error = 0.0\\nsamples = 1\\nvalue = 5342.0')]"
     },
     "execution_count": 24,
     "metadata": {},
     "output_type": "execute_result"
    },
    {
     "data": {
      "text/plain": "<Figure size 640x480 with 1 Axes>",
      "image/png": "[encoded data removed]"
     },
     "metadata": {},
     "output_type": "display_data"
    }
   ],
   "source": [
    "from sklearn.tree import DecisionTreeRegressor\n",
    "\n",
    "regressor = DecisionTreeRegressor()\n",
    "regressor.fit(X_train, y_train)\n",
    "tree.plot_tree(regressor)"
   ],
   "metadata": {
    "collapsed": false,
    "ExecuteTime": {
     "end_time": "2024-03-25T11:38:12.019594Z",
     "start_time": "2024-03-25T11:38:08.485004Z"
    }
   },
   "id": "afe64c8c7f51654e",
   "execution_count": 24
  },
  {
   "cell_type": "code",
   "outputs": [
    {
     "data": {
      "text/plain": "array([3635., 4476., 3333., 3656., 3333., 3802., 3635., 4476., 5319.,\n       4332.])"
     },
     "execution_count": 25,
     "metadata": {},
     "output_type": "execute_result"
    }
   ],
   "source": [
    "y_pred=regressor.predict(X_test)\n",
    "y_pred"
   ],
   "metadata": {
    "collapsed": false,
    "ExecuteTime": {
     "end_time": "2024-03-25T11:38:12.032414Z",
     "start_time": "2024-03-25T11:38:12.022324Z"
    }
   },
   "id": "9f80be795349c14f",
   "execution_count": 25
  },
  {
   "cell_type": "code",
   "outputs": [
    {
     "data": {
      "text/plain": "   Actual  Predict\n0    3601   3635.0\n1    4399   4476.0\n2    3448   3333.0\n3    3640   3656.0\n4    3063   3333.0\n5    3897   3802.0\n6    3528   3635.0\n7    4449   4476.0\n8    5126   5319.0\n9    4391   4332.0",
      "text/html": "<div>\n<style scoped>\n    .dataframe tbody tr th:only-of-type {\n        vertical-align: middle;\n    }\n\n    .dataframe tbody tr th {\n        vertical-align: top;\n    }\n\n    .dataframe thead th {\n        text-align: right;\n    }\n</style>\n<table border=\"1\" class=\"dataframe\">\n  <thead>\n    <tr style=\"text-align: right;\">\n      <th></th>\n      <th>Actual</th>\n      <th>Predict</th>\n    </tr>\n  </thead>\n  <tbody>\n    <tr>\n      <th>0</th>\n      <td>3601</td>\n      <td>3635.0</td>\n    </tr>\n    <tr>\n      <th>1</th>\n      <td>4399</td>\n      <td>4476.0</td>\n    </tr>\n    <tr>\n      <th>2</th>\n      <td>3448</td>\n      <td>3333.0</td>\n    </tr>\n    <tr>\n      <th>3</th>\n      <td>3640</td>\n      <td>3656.0</td>\n    </tr>\n    <tr>\n      <th>4</th>\n      <td>3063</td>\n      <td>3333.0</td>\n    </tr>\n    <tr>\n      <th>5</th>\n      <td>3897</td>\n      <td>3802.0</td>\n    </tr>\n    <tr>\n      <th>6</th>\n      <td>3528</td>\n      <td>3635.0</td>\n    </tr>\n    <tr>\n      <th>7</th>\n      <td>4449</td>\n      <td>4476.0</td>\n    </tr>\n    <tr>\n      <th>8</th>\n      <td>5126</td>\n      <td>5319.0</td>\n    </tr>\n    <tr>\n      <th>9</th>\n      <td>4391</td>\n      <td>4332.0</td>\n    </tr>\n  </tbody>\n</table>\n</div>"
     },
     "execution_count": 26,
     "metadata": {},
     "output_type": "execute_result"
    }
   ],
   "source": [
    "df=pd.DataFrame({'Actual':y_test, 'Predict':y_pred})\n",
    "df"
   ],
   "metadata": {
    "collapsed": false,
    "ExecuteTime": {
     "end_time": "2024-03-25T11:38:12.048846Z",
     "start_time": "2024-03-25T11:38:12.035142Z"
    }
   },
   "id": "3facbcb711ae3bbe",
   "execution_count": 26
  },
  {
   "cell_type": "code",
   "outputs": [
    {
     "name": "stdout",
     "output_type": "stream",
     "text": [
      "Среднеквадратичная ошибка 15539.9\n",
      "Абсолютная ошибка 99.3\n",
      "В процентах 2.3409689206710937\n"
     ]
    }
   ],
   "source": [
    "from sklearn import metrics\n",
    "\n",
    "print(\"Среднеквадратичная ошибка\", metrics.mean_squared_error(y_test,y_pred))\n",
    "print(\"Абсолютная ошибка\", metrics.mean_absolute_error(y_test, y_pred))\n",
    "\n",
    "print(\"В процентах\",metrics.mean_absolute_error(y_test, y_pred)/np.average(y_task)*100)"
   ],
   "metadata": {
    "collapsed": false,
    "ExecuteTime": {
     "end_time": "2024-03-25T11:38:12.064103Z",
     "start_time": "2024-03-25T11:38:12.054530Z"
    }
   },
   "id": "17b133ecd5ab7bb4",
   "execution_count": 27
  }
 ],
 "metadata": {
  "kernelspec": {
   "display_name": "Python 3",
   "language": "python",
   "name": "python3"
  },
  "language_info": {
   "codemirror_mode": {
    "name": "ipython",
    "version": 2
   },
   "file_extension": ".py",
   "mimetype": "text/x-python",
   "name": "python",
   "nbconvert_exporter": "python",
   "pygments_lexer": "ipython2",
   "version": "2.7.6"
  }
 },
 "nbformat": 4,
 "nbformat_minor": 5
}
