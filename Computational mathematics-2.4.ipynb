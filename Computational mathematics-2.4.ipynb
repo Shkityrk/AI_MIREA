{
 "cells": [
  {
   "metadata": {},
   "cell_type": "markdown",
   "source": [
    "|  x   |    y   |\n",
    "|------|--------|\n",
    "| 0.10 | 300.00 |\n",
    "| 0.20 | 340.00 |\n",
    "| 0.50 | 401.00 |\n",
    "| 0.70 | 470.00 |\n",
    "| 0.80 | 540.00 |\n",
    "| 0.90 | 602.00 |\n",
    "| 1.00 | 640.00 |\n",
    "| 1.10 | 680.00 |\n",
    "| 1.20 | 731.00 |\n",
    "| 1.80 | 880.00 |\n",
    "\n",
    "**Экстраполяция для точки x=2.0**\n"
   ],
   "id": "94240cfb64cab0e5"
  },
  {
   "metadata": {
    "ExecuteTime": {
     "end_time": "2024-09-23T15:41:46.662881Z",
     "start_time": "2024-09-23T15:41:46.658335Z"
    }
   },
   "cell_type": "code",
   "source": [
    "import numpy as np\n",
    "\n",
    "# Данные которые даны\n",
    "x_data = np.array([0.10,\n",
    "                   0.20,\n",
    "                   0.50, \n",
    "                   0.70, \n",
    "                   0.80, \n",
    "                   0.90, \n",
    "                   1.00, \n",
    "                   1.10, \n",
    "                   1.20, \n",
    "                   1.80])\n",
    "y_data = np.array([300.00, \n",
    "                   340.00, \n",
    "                   401.00, \n",
    "                   470.00, \n",
    "                   540.00, \n",
    "                   602.00,\n",
    "                   640.00, \n",
    "                   680.00,\n",
    "                   731.00, \n",
    "                   880.00])\n",
    "\n",
    "x_need=2. # таргет\n",
    "\n",
    "#Остальное, по идее, не менять!\n"
   ],
   "id": "1a61c25b22ff2876",
   "outputs": [],
   "execution_count": 14
  },
  {
   "metadata": {},
   "cell_type": "markdown",
   "source": "## Решение",
   "id": "85953293ba75aaca"
  },
  {
   "metadata": {
    "ExecuteTime": {
     "end_time": "2024-09-23T15:41:46.699423Z",
     "start_time": "2024-09-23T15:41:46.691885Z"
    }
   },
   "cell_type": "code",
   "source": [
    "# Суммы x и y\n",
    "sum_x = np.sum(x_data)\n",
    "sum_y = np.sum(y_data)\n",
    "\n",
    "# Вычисления через numpy\n",
    "x_2 = np.power(x_data, 2)  # x^2\n",
    "x_3 = np.power(x_data, 3)  # x^3\n",
    "x_4 = np.power(x_data, 4)  # x^4\n",
    "x_2y = np.power(x_data, 2) * y_data  # x^2 * y\n",
    "xy = x_data * y_data  # x * y\n",
    "\n",
    "# Вывод значений\n",
    "for i in range(len(x_data)):\n",
    "    print(f\"x^2: {x_2[i]}, x^3: {x_3[i]}, x^4: {x_4[i]}, x^2*y: {x_2y[i]}, x*y: {xy[i]}\")"
   ],
   "id": "87c770510ea3595c",
   "outputs": [
    {
     "name": "stdout",
     "output_type": "stream",
     "text": [
      "x^2: 0.010000000000000002, x^3: 0.0010000000000000002, x^4: 0.00010000000000000002, x^2*y: 3.0000000000000004, x*y: 30.0\n",
      "x^2: 0.04000000000000001, x^3: 0.008000000000000002, x^4: 0.0016000000000000003, x^2*y: 13.600000000000003, x*y: 68.0\n",
      "x^2: 0.25, x^3: 0.125, x^4: 0.0625, x^2*y: 100.25, x*y: 200.5\n",
      "x^2: 0.48999999999999994, x^3: 0.3429999999999999, x^4: 0.24009999999999995, x^2*y: 230.29999999999998, x*y: 329.0\n",
      "x^2: 0.6400000000000001, x^3: 0.5120000000000001, x^4: 0.4096000000000001, x^2*y: 345.6000000000001, x*y: 432.0\n",
      "x^2: 0.81, x^3: 0.7290000000000001, x^4: 0.6561, x^2*y: 487.62, x*y: 541.8000000000001\n",
      "x^2: 1.0, x^3: 1.0, x^4: 1.0, x^2*y: 640.0, x*y: 640.0\n",
      "x^2: 1.2100000000000002, x^3: 1.3310000000000004, x^4: 1.4641000000000004, x^2*y: 822.8000000000002, x*y: 748.0000000000001\n",
      "x^2: 1.44, x^3: 1.7279999999999998, x^4: 2.0736, x^2*y: 1052.6399999999999, x*y: 877.1999999999999\n",
      "x^2: 3.24, x^3: 5.832000000000001, x^4: 10.4976, x^2*y: 2851.2000000000003, x*y: 1584.0\n"
     ]
    }
   ],
   "execution_count": 15
  },
  {
   "metadata": {
    "ExecuteTime": {
     "end_time": "2024-09-23T15:41:46.744817Z",
     "start_time": "2024-09-23T15:41:46.736853Z"
    }
   },
   "cell_type": "code",
   "source": [
    "import pandas as pd\n",
    "\n",
    "# Создание DataFrame\n",
    "data = {\n",
    "    'x': x_data,\n",
    "    'x^2': x_2,\n",
    "    'x^3': x_3,\n",
    "    'x^4': x_4,\n",
    "    'x^2 * y': x_2y,\n",
    "    'x * y': xy\n",
    "}\n",
    "\n",
    "df = pd.DataFrame(data)\n",
    "\n",
    "# Вывод таблицы\n",
    "print(df)"
   ],
   "id": "4c0708288926d34b",
   "outputs": [
    {
     "name": "stdout",
     "output_type": "stream",
     "text": [
      "     x   x^2    x^3      x^4  x^2 * y   x * y\n",
      "0  0.1  0.01  0.001   0.0001     3.00    30.0\n",
      "1  0.2  0.04  0.008   0.0016    13.60    68.0\n",
      "2  0.5  0.25  0.125   0.0625   100.25   200.5\n",
      "3  0.7  0.49  0.343   0.2401   230.30   329.0\n",
      "4  0.8  0.64  0.512   0.4096   345.60   432.0\n",
      "5  0.9  0.81  0.729   0.6561   487.62   541.8\n",
      "6  1.0  1.00  1.000   1.0000   640.00   640.0\n",
      "7  1.1  1.21  1.331   1.4641   822.80   748.0\n",
      "8  1.2  1.44  1.728   2.0736  1052.64   877.2\n",
      "9  1.8  3.24  5.832  10.4976  2851.20  1584.0\n"
     ]
    }
   ],
   "execution_count": 16
  },
  {
   "metadata": {
    "ExecuteTime": {
     "end_time": "2024-09-23T15:41:46.787285Z",
     "start_time": "2024-09-23T15:41:46.781102Z"
    }
   },
   "cell_type": "code",
   "source": [
    "sums = df.sum()\n",
    "print(\"\\nСуммы для каждого столбца:\")\n",
    "print(sums)"
   ],
   "id": "2ca0c0a365149e31",
   "outputs": [
    {
     "name": "stdout",
     "output_type": "stream",
     "text": [
      "\n",
      "Суммы для каждого столбца:\n",
      "x             8.3000\n",
      "x^2           9.1300\n",
      "x^3          11.6090\n",
      "x^4          16.4053\n",
      "x^2 * y    6547.0100\n",
      "x * y      5450.5000\n",
      "dtype: float64\n"
     ]
    }
   ],
   "execution_count": 17
  },
  {
   "metadata": {
    "ExecuteTime": {
     "end_time": "2024-09-23T15:41:46.842984Z",
     "start_time": "2024-09-23T15:41:46.836489Z"
    }
   },
   "cell_type": "code",
   "source": [
    "import numpy as np\n",
    "\n",
    "# Матрица коэффициентов\n",
    "A = np.array([\n",
    "    [10,sums[\"x\"], sums[\"x^2\"]],\n",
    "    [sums[\"x\"], sums[\"x^2\"], sums[\"x^3\"]],\n",
    "    [sums[\"x^2\"], sums[\"x^3\"], sums[\"x^4\"]]\n",
    "])\n",
    "\n",
    "# Правая часть уравнений\n",
    "B = np.array([sum_y, sums[\"x^2 * y\"], sums[\"x * y\"]])\n",
    "\n",
    "# Решение системы уравнений\n",
    "X = np.linalg.solve(A, B)\n",
    "\n",
    "# Вывод решения\n",
    "print(f\"a0 = {X[0]}, a1 = {X[1]}, a2 = {X[2]}\")\n",
    "\n",
    "\n",
    "print(f\"y={X[2]}x**2 + {X[1]}x + {X[0]}\")\n"
   ],
   "id": "c9a2ab692e1daf14",
   "outputs": [
    {
     "name": "stdout",
     "output_type": "stream",
     "text": [
      "a0 = -2337.7417095511896, a1 = 7638.766618482969, a2 = -3772.217506889019\n",
      "y=-3772.217506889019x**2 + 7638.766618482969x + -2337.7417095511896\n"
     ]
    }
   ],
   "execution_count": 18
  },
  {
   "metadata": {
    "ExecuteTime": {
     "end_time": "2024-09-23T15:41:46.886076Z",
     "start_time": "2024-09-23T15:41:46.879530Z"
    }
   },
   "cell_type": "code",
   "source": [
    "x_mean = np.mean(x_data)\n",
    "y_mean = np.mean(y_data)\n",
    "\n",
    "# Вычисляем коэффициент b1\n",
    "b1 = np.sum((x_data - x_mean) * (y_data - y_mean)) / np.sum((x_data - x_mean) ** 2)\n",
    "\n",
    "# Вычисляем коэффициент b0\n",
    "b0 = y_mean - b1 * x_mean\n",
    "\n",
    "print(\"b1 (угловой коэффициент):\", b1)\n",
    "print(\"b0 (свободный член):\", b0)"
   ],
   "id": "44d365b4168a6be9",
   "outputs": [
    {
     "name": "stdout",
     "output_type": "stream",
     "text": [
      "b1 (угловой коэффициент): 364.0249888442659\n",
      "b0 (свободный член): 256.25925925925924\n"
     ]
    }
   ],
   "execution_count": 19
  },
  {
   "metadata": {
    "ExecuteTime": {
     "end_time": "2024-09-23T15:46:02.275158Z",
     "start_time": "2024-09-23T15:46:02.021809Z"
    }
   },
   "cell_type": "code",
   "source": [
    "from matplotlib import pyplot as plt  # Прямая\n",
    "x_line = np.linspace(min(x_data), max(x_data), 200)\n",
    "y_line = b1 * x_line + b0\n",
    "\n",
    "# Построение графика\n",
    "plt.scatter(x_data, y_data, color='blue', label='Исходные данные')\n",
    "plt.plot(x_line, y_line, color='red', label='Линейная регрессия')\n",
    "plt.scatter(x_need, b1 * x_need + b0, color='green', s=100)\n",
    "plt.xlabel('x')\n",
    "plt.ylabel('y')\n",
    "plt.legend()\n",
    "plt.grid(True)\n",
    "plt.show()\n",
    "\n",
    "ans = b1 * x_need + b0\n",
    "print(ans)\n",
    "\n"
   ],
   "id": "a532ccd6ff986e79",
   "outputs": [
    {
     "data": {
      "text/plain": [
       "<Figure size 640x480 with 1 Axes>"
      ],
      "image/png": "[encoded data removed]"
     },
     "metadata": {},
     "output_type": "display_data"
    },
    {
     "name": "stdout",
     "output_type": "stream",
     "text": [
      "984.3092369477911\n"
     ]
    }
   ],
   "execution_count": 27
  },
  {
   "metadata": {},
   "cell_type": "markdown",
   "source": "## Проверка",
   "id": "11e17543cf6091f0"
  },
  {
   "metadata": {
    "ExecuteTime": {
     "end_time": "2024-09-23T15:51:03.147035Z",
     "start_time": "2024-09-23T15:51:03.141181Z"
    }
   },
   "cell_type": "code",
   "source": [
    "from sklearn.linear_model import LinearRegression\n",
    "\n",
    "# Модель линейной регрессии\n",
    "model = LinearRegression()\n",
    "\n",
    "# Обучаем модель, изменяя размерность только в момент вызова fit\n",
    "model.fit(x_data.reshape(-1, 1), y_data)\n",
    "\n",
    "# Значение x для экстраполяции, изменяя размерность в момент вызова predict\n",
    "x_new = np.array([[x_need]])\n",
    "\n",
    "# Предсказание значения y для таргета\n",
    "y_pred = model.predict(x_new)\n",
    "\n",
    "print(f\"Предсказанное значение y для x = {x_need}: {y_pred[0]}\")\n",
    "if(y_pred[0] == ans):\n",
    "    print(\"Задча решена верно!\")\n",
    "else:\n",
    "    print(\"что то не получилось...\")"
   ],
   "id": "1360f9f4fb2330a9",
   "outputs": [
    {
     "name": "stdout",
     "output_type": "stream",
     "text": [
      "Предсказанное значение y для x = 2.0: 984.3092369477911\n",
      "Задча решена верно!\n"
     ]
    }
   ],
   "execution_count": 30
  }
 ],
 "metadata": {
  "kernelspec": {
   "display_name": "Python 3",
   "language": "python",
   "name": "python3"
  },
  "language_info": {
   "codemirror_mode": {
    "name": "ipython",
    "version": 2
   },
   "file_extension": ".py",
   "mimetype": "text/x-python",
   "name": "python",
   "nbconvert_exporter": "python",
   "pygments_lexer": "ipython2",
   "version": "2.7.6"
  }
 },
 "nbformat": 4,
 "nbformat_minor": 5
}
